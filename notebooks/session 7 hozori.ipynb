{
 "cells": [
  {
   "cell_type": "code",
   "execution_count": 1,
   "metadata": {},
   "outputs": [],
   "source": [
    "import time"
   ]
  },
  {
   "cell_type": "code",
   "execution_count": 3,
   "metadata": {},
   "outputs": [],
   "source": [
    "begin = time.time()"
   ]
  },
  {
   "cell_type": "code",
   "execution_count": 4,
   "metadata": {},
   "outputs": [
    {
     "data": {
      "text/plain": [
       "19.47859477996826"
      ]
     },
     "execution_count": 4,
     "metadata": {},
     "output_type": "execute_result"
    }
   ],
   "source": [
    "time.time() - begin"
   ]
  },
  {
   "cell_type": "code",
   "execution_count": 9,
   "metadata": {},
   "outputs": [],
   "source": [
    "def f():\n",
    "    l = []\n",
    "    for i in range(10000000):\n",
    "        l.append(i)\n",
    "        \n"
   ]
  },
  {
   "cell_type": "code",
   "execution_count": 11,
   "metadata": {},
   "outputs": [],
   "source": [
    "def g():\n",
    "    l = [i for i in range(10000000)]"
   ]
  },
  {
   "cell_type": "code",
   "execution_count": 10,
   "metadata": {},
   "outputs": [
    {
     "name": "stdout",
     "output_type": "stream",
     "text": [
      "1.8530070781707764\n"
     ]
    }
   ],
   "source": [
    "begin = time.time()\n",
    "f()\n",
    "end = time.time()\n",
    "print(end - begin)"
   ]
  },
  {
   "cell_type": "code",
   "execution_count": 12,
   "metadata": {},
   "outputs": [
    {
     "name": "stdout",
     "output_type": "stream",
     "text": [
      "1.1279122829437256\n"
     ]
    }
   ],
   "source": [
    "begin = time.time()\n",
    "g()\n",
    "end = time.time()\n",
    "print(end - begin)"
   ]
  },
  {
   "cell_type": "code",
   "execution_count": null,
   "metadata": {},
   "outputs": [],
   "source": [
    "telegram = {'Mobina' : [] }"
   ]
  },
  {
   "cell_type": "code",
   "execution_count": null,
   "metadata": {},
   "outputs": [],
   "source": [
    "'''\n",
    "telegram = {'Mobina': ['Salam Khubi'],\n",
    "            'Armin' : ['Salam', '5 Shanbe quiz darim!'],\n",
    "            'Mahdie' : ['Chetori?', quiz darim?]}\n",
    "'''"
   ]
  },
  {
   "cell_type": "code",
   "execution_count": 6,
   "metadata": {},
   "outputs": [
    {
     "name": "stdout",
     "output_type": "stream",
     "text": [
      "Send Mobina Salam khubi\n",
      "Mobina added\n",
      "Send Armin Salam\n",
      "Armin added\n",
      "Send Armin 5shanbe quiz darim!\n",
      "Send Mahdiye Chetori?\n",
      "Mahdiye added\n",
      "Send Mahdiye quiz darim?\n",
      "Exit\n"
     ]
    }
   ],
   "source": [
    "telegram = dict()\n",
    "\n",
    "while True:\n",
    "    ins = input()\n",
    "    if ins == 'Exit' :\n",
    "        break\n",
    "    if ins.startswith('Send'): # 'Send Mobina Salam khubi?'\n",
    "        ins, user, message = ins.split(maxsplit=2)\n",
    "        # ins = 'Send', user = 'Mobina', message = 'Salam khubi'\n",
    "        if user not in telegram:\n",
    "            telegram[user] = [] # telegram = {'Mobina' : []}\n",
    "            print(user, 'added')\n",
    "            telegram[user].append(message)\n",
    "            # telegram[user] = [message]\n",
    "        else:\n",
    "            telegram[user].append(message)  \n",
    "            \n",
    "        "
   ]
  },
  {
   "cell_type": "code",
   "execution_count": 7,
   "metadata": {},
   "outputs": [
    {
     "data": {
      "text/plain": [
       "{'Mobina': ['Salam khubi'],\n",
       " 'Armin': ['Salam', '5shanbe quiz darim!'],\n",
       " 'Mahdiye': ['Chetori?', 'quiz darim?']}"
      ]
     },
     "execution_count": 7,
     "metadata": {},
     "output_type": "execute_result"
    }
   ],
   "source": [
    "telegram"
   ]
  },
  {
   "cell_type": "code",
   "execution_count": 4,
   "metadata": {},
   "outputs": [
    {
     "data": {
      "text/plain": [
       "['Send', 'Mobina', 'Salam khubi?']"
      ]
     },
     "execution_count": 4,
     "metadata": {},
     "output_type": "execute_result"
    }
   ],
   "source": [
    "'Send Mobina Salam khubi?'.split(maxsplit = 2)"
   ]
  },
  {
   "cell_type": "code",
   "execution_count": null,
   "metadata": {},
   "outputs": [],
   "source": [
    "# Telegram\n",
    "# user1 : messages\n",
    "# user2 : messages\n",
    "# user3 : messages\n",
    "# telegram = {user1 : messages, user2 : messages}\n",
    "\n",
    "telegram = \n",
    "\n",
    "\n",
    "\n",
    "\n",
    "\n",
    "\n"
   ]
  },
  {
   "cell_type": "code",
   "execution_count": null,
   "metadata": {},
   "outputs": [],
   "source": []
  }
 ],
 "metadata": {
  "kernelspec": {
   "display_name": "Python 3",
   "language": "python",
   "name": "python3"
  },
  "language_info": {
   "codemirror_mode": {
    "name": "ipython",
    "version": 3
   },
   "file_extension": ".py",
   "mimetype": "text/x-python",
   "name": "python",
   "nbconvert_exporter": "python",
   "pygments_lexer": "ipython3",
   "version": "3.8.5"
  }
 },
 "nbformat": 4,
 "nbformat_minor": 4
}
