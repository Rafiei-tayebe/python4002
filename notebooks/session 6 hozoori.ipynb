{
 "cells": [
  {
   "cell_type": "code",
   "execution_count": 1,
   "metadata": {},
   "outputs": [
    {
     "data": {
      "text/plain": [
       "True"
      ]
     },
     "execution_count": 1,
     "metadata": {},
     "output_type": "execute_result"
    }
   ],
   "source": [
    "'aaaAAAA1111'.isalnum()"
   ]
  },
  {
   "cell_type": "code",
   "execution_count": 2,
   "metadata": {},
   "outputs": [
    {
     "data": {
      "text/plain": [
       "False"
      ]
     },
     "execution_count": 2,
     "metadata": {},
     "output_type": "execute_result"
    }
   ],
   "source": [
    "'aa@aa2'.isalnum()"
   ]
  },
  {
   "cell_type": "code",
   "execution_count": 20,
   "metadata": {},
   "outputs": [
    {
     "name": "stdout",
     "output_type": "stream",
     "text": [
      "['a 1\\n', 'b 2\\n', 'c 3\\n', 'd 4']\n"
     ]
    }
   ],
   "source": [
    "# files\n",
    "f = open('test.txt', mode = 'r')\n",
    "mylist = f.readlines()\n",
    "print(mylist)"
   ]
  },
  {
   "cell_type": "code",
   "execution_count": 21,
   "metadata": {},
   "outputs": [
    {
     "data": {
      "text/plain": [
       "_io.TextIOWrapper"
      ]
     },
     "execution_count": 21,
     "metadata": {},
     "output_type": "execute_result"
    }
   ],
   "source": [
    "type(f)"
   ]
  },
  {
   "cell_type": "code",
   "execution_count": 7,
   "metadata": {},
   "outputs": [
    {
     "name": "stdout",
     "output_type": "stream",
     "text": [
      "a 1\n",
      "b 2\n",
      "c 3\n",
      "d 4\n"
     ]
    }
   ],
   "source": [
    "for member in mylist:\n",
    "    print(member.strip())"
   ]
  },
  {
   "cell_type": "code",
   "execution_count": 8,
   "metadata": {},
   "outputs": [
    {
     "name": "stdout",
     "output_type": "stream",
     "text": [
      "a 1\n",
      "b 2\n",
      "c 3\n",
      "d 4\n"
     ]
    }
   ],
   "source": [
    "print(''.join(mylist))"
   ]
  },
  {
   "cell_type": "code",
   "execution_count": 9,
   "metadata": {},
   "outputs": [
    {
     "name": "stdout",
     "output_type": "stream",
     "text": [
      "a 1\n",
      "b 2\n",
      "c 3\n",
      "d 4\n"
     ]
    }
   ],
   "source": [
    "f = open('test.txt', mode = 'r')\n",
    "mystr = f.read()\n",
    "print(mystr)"
   ]
  },
  {
   "cell_type": "code",
   "execution_count": 10,
   "metadata": {},
   "outputs": [
    {
     "data": {
      "text/plain": [
       "str"
      ]
     },
     "execution_count": 10,
     "metadata": {},
     "output_type": "execute_result"
    }
   ],
   "source": [
    "type(mystr)"
   ]
  },
  {
   "cell_type": "code",
   "execution_count": 11,
   "metadata": {},
   "outputs": [
    {
     "data": {
      "text/plain": [
       "'a 1\\nb 2\\nc 3\\nd 4'"
      ]
     },
     "execution_count": 11,
     "metadata": {},
     "output_type": "execute_result"
    }
   ],
   "source": [
    "mystr"
   ]
  },
  {
   "cell_type": "code",
   "execution_count": 18,
   "metadata": {},
   "outputs": [
    {
     "data": {
      "text/plain": [
       "'\\n'"
      ]
     },
     "execution_count": 18,
     "metadata": {},
     "output_type": "execute_result"
    }
   ],
   "source": [
    "mystr[3]"
   ]
  },
  {
   "cell_type": "code",
   "execution_count": 19,
   "metadata": {},
   "outputs": [
    {
     "data": {
      "text/plain": [
       "['a 1', 'b 2', 'c 3', 'd 4']"
      ]
     },
     "execution_count": 19,
     "metadata": {},
     "output_type": "execute_result"
    }
   ],
   "source": [
    "mystr.split('\\n')"
   ]
  },
  {
   "cell_type": "code",
   "execution_count": 22,
   "metadata": {},
   "outputs": [
    {
     "name": "stdout",
     "output_type": "stream",
     "text": [
      "['a 1\\n', 'b 2\\n', 'c 3\\n', 'd 4']\n"
     ]
    }
   ],
   "source": [
    "f = open('test.txt', mode = 'r')\n",
    "mylist = f.readlines()\n",
    "print(mylist)\n",
    "f.close()"
   ]
  },
  {
   "cell_type": "code",
   "execution_count": 24,
   "metadata": {},
   "outputs": [
    {
     "ename": "ValueError",
     "evalue": "I/O operation on closed file.",
     "output_type": "error",
     "traceback": [
      "\u001b[1;31m---------------------------------------------------------------------------\u001b[0m",
      "\u001b[1;31mValueError\u001b[0m                                Traceback (most recent call last)",
      "\u001b[1;32m<ipython-input-24-571e9fb02258>\u001b[0m in \u001b[0;36m<module>\u001b[1;34m\u001b[0m\n\u001b[1;32m----> 1\u001b[1;33m \u001b[0mf\u001b[0m\u001b[1;33m.\u001b[0m\u001b[0mread\u001b[0m\u001b[1;33m(\u001b[0m\u001b[1;33m)\u001b[0m\u001b[1;33m\u001b[0m\u001b[1;33m\u001b[0m\u001b[0m\n\u001b[0m",
      "\u001b[1;31mValueError\u001b[0m: I/O operation on closed file."
     ]
    }
   ],
   "source": [
    "f.read()"
   ]
  },
  {
   "cell_type": "code",
   "execution_count": null,
   "metadata": {},
   "outputs": [],
   "source": [
    "# File\n",
    "# mode = 'r' : read\n",
    "    # read() -> str\n",
    "    # readlines() -> list of str\n",
    "# close()"
   ]
  },
  {
   "cell_type": "code",
   "execution_count": 27,
   "metadata": {},
   "outputs": [
    {
     "name": "stdout",
     "output_type": "stream",
     "text": [
      "a 1\n",
      "b 2\n",
      "c 3\n",
      "d 4\n"
     ]
    }
   ],
   "source": [
    "f = open('test.txt', 'r')\n",
    "for line in f:\n",
    "    line = line.strip()\n",
    "    print(line)\n",
    "f.close()"
   ]
  },
  {
   "cell_type": "code",
   "execution_count": null,
   "metadata": {},
   "outputs": [],
   "source": [
    "# write : w \n",
    "# append : a"
   ]
  },
  {
   "cell_type": "code",
   "execution_count": 29,
   "metadata": {},
   "outputs": [],
   "source": [
    "f = open('test.txt', 'a')\n",
    "f.write('e 5\\n')\n",
    "f.write('f 6\\n')\n",
    "f.write('g 7\\nh 8\\n')\n",
    "f.close()"
   ]
  },
  {
   "cell_type": "code",
   "execution_count": 30,
   "metadata": {},
   "outputs": [],
   "source": [
    "f = open('test.txt', 'w')\n",
    "f.write('e 5\\n')\n",
    "f.write('f 6\\n')\n",
    "f.write('g 7\\nh 8\\n')\n",
    "f.close()"
   ]
  },
  {
   "cell_type": "code",
   "execution_count": 31,
   "metadata": {},
   "outputs": [],
   "source": [
    "f = open('test2.txt', 'w')"
   ]
  },
  {
   "cell_type": "code",
   "execution_count": 32,
   "metadata": {},
   "outputs": [],
   "source": [
    "f.close()"
   ]
  },
  {
   "cell_type": "code",
   "execution_count": 33,
   "metadata": {},
   "outputs": [],
   "source": [
    "f = open('test3', 'a')"
   ]
  },
  {
   "cell_type": "code",
   "execution_count": 34,
   "metadata": {},
   "outputs": [
    {
     "ename": "FileNotFoundError",
     "evalue": "[Errno 2] No such file or directory: 'test4.txt'",
     "output_type": "error",
     "traceback": [
      "\u001b[1;31m---------------------------------------------------------------------------\u001b[0m",
      "\u001b[1;31mFileNotFoundError\u001b[0m                         Traceback (most recent call last)",
      "\u001b[1;32m<ipython-input-34-2f801b643cb0>\u001b[0m in \u001b[0;36m<module>\u001b[1;34m\u001b[0m\n\u001b[1;32m----> 1\u001b[1;33m \u001b[0mf\u001b[0m \u001b[1;33m=\u001b[0m \u001b[0mopen\u001b[0m\u001b[1;33m(\u001b[0m\u001b[1;34m'test4.txt'\u001b[0m\u001b[1;33m,\u001b[0m \u001b[1;34m'r'\u001b[0m\u001b[1;33m)\u001b[0m\u001b[1;33m\u001b[0m\u001b[1;33m\u001b[0m\u001b[0m\n\u001b[0m",
      "\u001b[1;31mFileNotFoundError\u001b[0m: [Errno 2] No such file or directory: 'test4.txt'"
     ]
    }
   ],
   "source": [
    "f = open('test4.txt', 'r')"
   ]
  },
  {
   "cell_type": "code",
   "execution_count": 35,
   "metadata": {},
   "outputs": [],
   "source": [
    "f.close()"
   ]
  },
  {
   "cell_type": "code",
   "execution_count": 39,
   "metadata": {},
   "outputs": [],
   "source": [
    "path = 'C:\\\\Users\\\\Tayebe Rafiei\\\\Desktop\\\\'\n",
    "f = open(path+'test5.txt')"
   ]
  },
  {
   "cell_type": "code",
   "execution_count": 40,
   "metadata": {},
   "outputs": [],
   "source": [
    "path = 'C:/Users/Tayebe Rafiei/Desktop/'\n",
    "f = open(path+'test5.txt')"
   ]
  },
  {
   "cell_type": "code",
   "execution_count": 41,
   "metadata": {},
   "outputs": [],
   "source": [
    "path = r'C:\\Users\\Tayebe Rafiei\\Desktop/'\n",
    "f = open(path+'test5.txt')"
   ]
  },
  {
   "cell_type": "code",
   "execution_count": 42,
   "metadata": {},
   "outputs": [],
   "source": [
    "f.close()\n"
   ]
  },
  {
   "cell_type": "code",
   "execution_count": 43,
   "metadata": {},
   "outputs": [],
   "source": [
    "f = open(path+'test5.txt', 'a')"
   ]
  },
  {
   "cell_type": "code",
   "execution_count": 44,
   "metadata": {},
   "outputs": [
    {
     "data": {
      "text/plain": [
       "9"
      ]
     },
     "execution_count": 44,
     "metadata": {},
     "output_type": "execute_result"
    }
   ],
   "source": [
    "f.write('\\ne 5\\nf 6\\n')"
   ]
  },
  {
   "cell_type": "code",
   "execution_count": 45,
   "metadata": {},
   "outputs": [],
   "source": [
    "f.close()"
   ]
  },
  {
   "cell_type": "code",
   "execution_count": 47,
   "metadata": {},
   "outputs": [],
   "source": [
    "f = open(path+'test5.txt', 'a')\n",
    "print('g 7', 'h 8', sep = '\\n', file = f)"
   ]
  },
  {
   "cell_type": "code",
   "execution_count": 48,
   "metadata": {},
   "outputs": [],
   "source": [
    "f.close()"
   ]
  },
  {
   "cell_type": "code",
   "execution_count": 49,
   "metadata": {},
   "outputs": [
    {
     "name": "stdout",
     "output_type": "stream",
     "text": [
      "Requirement already satisfied: pandas in c:\\users\\tayebe rafiei\\appdata\\roaming\\python\\python38\\site-packages (1.2.4)\n",
      "Requirement already satisfied: numpy>=1.16.5 in c:\\users\\tayebe rafiei\\appdata\\roaming\\python\\python38\\site-packages (from pandas) (1.19.5)\n",
      "Requirement already satisfied: pytz>=2017.3 in c:\\users\\tayebe rafiei\\appdata\\roaming\\python\\python38\\site-packages (from pandas) (2020.1)\n",
      "Requirement already satisfied: python-dateutil>=2.7.3 in c:\\users\\tayebe rafiei\\appdata\\roaming\\python\\python38\\site-packages (from pandas) (2.8.1)\n",
      "Requirement already satisfied: six>=1.5 in c:\\python38\\lib\\site-packages (from python-dateutil>=2.7.3->pandas) (1.15.0)\n"
     ]
    },
    {
     "name": "stderr",
     "output_type": "stream",
     "text": [
      "WARNING: Ignoring invalid distribution -ip (c:\\python38\\lib\\site-packages)\n",
      "WARNING: Ignoring invalid distribution -ip (c:\\python38\\lib\\site-packages)\n",
      "WARNING: Ignoring invalid distribution -ip (c:\\python38\\lib\\site-packages)\n",
      "WARNING: Ignoring invalid distribution -ip (c:\\python38\\lib\\site-packages)\n",
      "WARNING: You are using pip version 21.3.1; however, version 22.0.4 is available.\n",
      "You should consider upgrading via the 'c:\\python38\\python.exe -m pip install --upgrade pip' command.\n"
     ]
    }
   ],
   "source": [
    "!pip install pandas"
   ]
  },
  {
   "cell_type": "code",
   "execution_count": 51,
   "metadata": {},
   "outputs": [],
   "source": [
    "import pandas \n",
    "f = pandas.read_csv('test.csv')"
   ]
  },
  {
   "cell_type": "code",
   "execution_count": 56,
   "metadata": {},
   "outputs": [],
   "source": [
    "f = pandas.read_excel('ap4002stu.xlsx', header = None)"
   ]
  },
  {
   "cell_type": "code",
   "execution_count": 59,
   "metadata": {},
   "outputs": [],
   "source": [
    "f.iloc[0,1] = 'x'"
   ]
  },
  {
   "cell_type": "code",
   "execution_count": 60,
   "metadata": {},
   "outputs": [
    {
     "data": {
      "text/html": [
       "<div>\n",
       "<style scoped>\n",
       "    .dataframe tbody tr th:only-of-type {\n",
       "        vertical-align: middle;\n",
       "    }\n",
       "\n",
       "    .dataframe tbody tr th {\n",
       "        vertical-align: top;\n",
       "    }\n",
       "\n",
       "    .dataframe thead th {\n",
       "        text-align: right;\n",
       "    }\n",
       "</style>\n",
       "<table border=\"1\" class=\"dataframe\">\n",
       "  <thead>\n",
       "    <tr style=\"text-align: right;\">\n",
       "      <th></th>\n",
       "      <th>0</th>\n",
       "      <th>1</th>\n",
       "      <th>2</th>\n",
       "      <th>3</th>\n",
       "      <th>4</th>\n",
       "      <th>5</th>\n",
       "      <th>6</th>\n",
       "    </tr>\n",
       "  </thead>\n",
       "  <tbody>\n",
       "    <tr>\n",
       "      <th>0</th>\n",
       "      <td>97521153</td>\n",
       "      <td>x</td>\n",
       "      <td>اصلي</td>\n",
       "      <td>عادي</td>\n",
       "      <td>NaN</td>\n",
       "      <td>NaN</td>\n",
       "      <td>NaN</td>\n",
       "    </tr>\n",
       "    <tr>\n",
       "      <th>1</th>\n",
       "      <td>98300011</td>\n",
       "      <td>شكوري مقدم مهشاد</td>\n",
       "      <td>نظري</td>\n",
       "      <td>عادي</td>\n",
       "      <td>1.0</td>\n",
       "      <td>NaN</td>\n",
       "      <td>NaN</td>\n",
       "    </tr>\n",
       "    <tr>\n",
       "      <th>2</th>\n",
       "      <td>98300056</td>\n",
       "      <td>صفايي مهر اميرحسين</td>\n",
       "      <td>نظري</td>\n",
       "      <td>عادي</td>\n",
       "      <td>1.0</td>\n",
       "      <td>1.0</td>\n",
       "      <td>1.0</td>\n",
       "    </tr>\n",
       "    <tr>\n",
       "      <th>3</th>\n",
       "      <td>98300065</td>\n",
       "      <td>جيريايي زهرا</td>\n",
       "      <td>نظري</td>\n",
       "      <td>عادي</td>\n",
       "      <td>1.0</td>\n",
       "      <td>NaN</td>\n",
       "      <td>1.0</td>\n",
       "    </tr>\n",
       "    <tr>\n",
       "      <th>4</th>\n",
       "      <td>98300092</td>\n",
       "      <td>جعفرزاده محمدمهدي</td>\n",
       "      <td>نظري</td>\n",
       "      <td>عادي</td>\n",
       "      <td>NaN</td>\n",
       "      <td>NaN</td>\n",
       "      <td>NaN</td>\n",
       "    </tr>\n",
       "    <tr>\n",
       "      <th>5</th>\n",
       "      <td>98521009</td>\n",
       "      <td>آتشكده علي</td>\n",
       "      <td>اصلي</td>\n",
       "      <td>عادي</td>\n",
       "      <td>NaN</td>\n",
       "      <td>NaN</td>\n",
       "      <td>NaN</td>\n",
       "    </tr>\n",
       "    <tr>\n",
       "      <th>6</th>\n",
       "      <td>98521153</td>\n",
       "      <td>خادم شاهزاده طاهر محمدامين</td>\n",
       "      <td>اصلي</td>\n",
       "      <td>عادي</td>\n",
       "      <td>NaN</td>\n",
       "      <td>NaN</td>\n",
       "      <td>NaN</td>\n",
       "    </tr>\n",
       "    <tr>\n",
       "      <th>7</th>\n",
       "      <td>99300029</td>\n",
       "      <td>سلطاني پرهام</td>\n",
       "      <td>نظري</td>\n",
       "      <td>عادي</td>\n",
       "      <td>NaN</td>\n",
       "      <td>NaN</td>\n",
       "      <td>NaN</td>\n",
       "    </tr>\n",
       "    <tr>\n",
       "      <th>8</th>\n",
       "      <td>99300038</td>\n",
       "      <td>يزدي محمدارمان</td>\n",
       "      <td>نظري</td>\n",
       "      <td>عادي</td>\n",
       "      <td>1.0</td>\n",
       "      <td>1.0</td>\n",
       "      <td>1.0</td>\n",
       "    </tr>\n",
       "    <tr>\n",
       "      <th>9</th>\n",
       "      <td>99400004</td>\n",
       "      <td>ايرانپور سارا</td>\n",
       "      <td>اصلي</td>\n",
       "      <td>مهمان از دانشگاه ديگر</td>\n",
       "      <td>1.0</td>\n",
       "      <td>1.0</td>\n",
       "      <td>1.0</td>\n",
       "    </tr>\n",
       "    <tr>\n",
       "      <th>10</th>\n",
       "      <td>99412042</td>\n",
       "      <td>رحيمي محسن</td>\n",
       "      <td>اصلي</td>\n",
       "      <td>عادي</td>\n",
       "      <td>NaN</td>\n",
       "      <td>NaN</td>\n",
       "      <td>1.0</td>\n",
       "    </tr>\n",
       "    <tr>\n",
       "      <th>11</th>\n",
       "      <td>99413019</td>\n",
       "      <td>ليري ميلاد</td>\n",
       "      <td>اصلي</td>\n",
       "      <td>عادي</td>\n",
       "      <td>NaN</td>\n",
       "      <td>1.0</td>\n",
       "      <td>1.0</td>\n",
       "    </tr>\n",
       "    <tr>\n",
       "      <th>12</th>\n",
       "      <td>99472068</td>\n",
       "      <td>نانكلي علي</td>\n",
       "      <td>اصلي</td>\n",
       "      <td>عادي</td>\n",
       "      <td>1.0</td>\n",
       "      <td>1.0</td>\n",
       "      <td>NaN</td>\n",
       "    </tr>\n",
       "    <tr>\n",
       "      <th>13</th>\n",
       "      <td>99522005</td>\n",
       "      <td>فرجي باويل عليائي جواد</td>\n",
       "      <td>اصلي</td>\n",
       "      <td>عادي</td>\n",
       "      <td>NaN</td>\n",
       "      <td>1.0</td>\n",
       "      <td>NaN</td>\n",
       "    </tr>\n",
       "    <tr>\n",
       "      <th>14</th>\n",
       "      <td>99522068</td>\n",
       "      <td>محمدپوراشكلك محمدهادي</td>\n",
       "      <td>اصلي</td>\n",
       "      <td>عادي</td>\n",
       "      <td>1.0</td>\n",
       "      <td>NaN</td>\n",
       "      <td>1.0</td>\n",
       "    </tr>\n",
       "    <tr>\n",
       "      <th>15</th>\n",
       "      <td>99522122</td>\n",
       "      <td>مقدم فر مهديار</td>\n",
       "      <td>اصلي</td>\n",
       "      <td>عادي</td>\n",
       "      <td>NaN</td>\n",
       "      <td>NaN</td>\n",
       "      <td>NaN</td>\n",
       "    </tr>\n",
       "    <tr>\n",
       "      <th>16</th>\n",
       "      <td>400521027</td>\n",
       "      <td>ازاداني مبين</td>\n",
       "      <td>اصلي</td>\n",
       "      <td>عادي</td>\n",
       "      <td>1.0</td>\n",
       "      <td>1.0</td>\n",
       "      <td>1.0</td>\n",
       "    </tr>\n",
       "    <tr>\n",
       "      <th>17</th>\n",
       "      <td>400521045</td>\n",
       "      <td>اطهري علي</td>\n",
       "      <td>اصلي</td>\n",
       "      <td>عادي</td>\n",
       "      <td>1.0</td>\n",
       "      <td>1.0</td>\n",
       "      <td>1.0</td>\n",
       "    </tr>\n",
       "    <tr>\n",
       "      <th>18</th>\n",
       "      <td>400521108</td>\n",
       "      <td>اميرفتاحي ارمين</td>\n",
       "      <td>اصلي</td>\n",
       "      <td>عادي</td>\n",
       "      <td>1.0</td>\n",
       "      <td>1.0</td>\n",
       "      <td>1.0</td>\n",
       "    </tr>\n",
       "    <tr>\n",
       "      <th>19</th>\n",
       "      <td>400521189</td>\n",
       "      <td>پورنوين پوريا</td>\n",
       "      <td>اصلي</td>\n",
       "      <td>عادي</td>\n",
       "      <td>1.0</td>\n",
       "      <td>1.0</td>\n",
       "      <td>1.0</td>\n",
       "    </tr>\n",
       "    <tr>\n",
       "      <th>20</th>\n",
       "      <td>400521216</td>\n",
       "      <td>جليلوند محمدجواد</td>\n",
       "      <td>اصلي</td>\n",
       "      <td>عادي</td>\n",
       "      <td>NaN</td>\n",
       "      <td>1.0</td>\n",
       "      <td>1.0</td>\n",
       "    </tr>\n",
       "    <tr>\n",
       "      <th>21</th>\n",
       "      <td>400521243</td>\n",
       "      <td>حسينيان محمدپارسا</td>\n",
       "      <td>اصلي</td>\n",
       "      <td>عادي</td>\n",
       "      <td>1.0</td>\n",
       "      <td>1.0</td>\n",
       "      <td>1.0</td>\n",
       "    </tr>\n",
       "    <tr>\n",
       "      <th>22</th>\n",
       "      <td>400521252</td>\n",
       "      <td>حقدادي محمدحسين</td>\n",
       "      <td>اصلي</td>\n",
       "      <td>عادي</td>\n",
       "      <td>1.0</td>\n",
       "      <td>1.0</td>\n",
       "      <td>1.0</td>\n",
       "    </tr>\n",
       "    <tr>\n",
       "      <th>23</th>\n",
       "      <td>400521261</td>\n",
       "      <td>حنيفه زاده مرندي اميرحسين</td>\n",
       "      <td>اصلي</td>\n",
       "      <td>عادي</td>\n",
       "      <td>1.0</td>\n",
       "      <td>1.0</td>\n",
       "      <td>1.0</td>\n",
       "    </tr>\n",
       "    <tr>\n",
       "      <th>24</th>\n",
       "      <td>400521279</td>\n",
       "      <td>خادم حسين</td>\n",
       "      <td>اصلي</td>\n",
       "      <td>عادي</td>\n",
       "      <td>1.0</td>\n",
       "      <td>1.0</td>\n",
       "      <td>NaN</td>\n",
       "    </tr>\n",
       "    <tr>\n",
       "      <th>25</th>\n",
       "      <td>400521342</td>\n",
       "      <td>ذبيحي چاشمي احمدرضا</td>\n",
       "      <td>اصلي</td>\n",
       "      <td>عادي</td>\n",
       "      <td>1.0</td>\n",
       "      <td>NaN</td>\n",
       "      <td>NaN</td>\n",
       "    </tr>\n",
       "    <tr>\n",
       "      <th>26</th>\n",
       "      <td>400521405</td>\n",
       "      <td>سادات سيدحامد</td>\n",
       "      <td>اصلي</td>\n",
       "      <td>عادي</td>\n",
       "      <td>1.0</td>\n",
       "      <td>1.0</td>\n",
       "      <td>1.0</td>\n",
       "    </tr>\n",
       "    <tr>\n",
       "      <th>27</th>\n",
       "      <td>400521468</td>\n",
       "      <td>شفيعي يكتا پارسا</td>\n",
       "      <td>اصلي</td>\n",
       "      <td>عادي</td>\n",
       "      <td>1.0</td>\n",
       "      <td>1.0</td>\n",
       "      <td>1.0</td>\n",
       "    </tr>\n",
       "    <tr>\n",
       "      <th>28</th>\n",
       "      <td>400521477</td>\n",
       "      <td>شكوهي طرقي علي</td>\n",
       "      <td>اصلي</td>\n",
       "      <td>عادي</td>\n",
       "      <td>1.0</td>\n",
       "      <td>1.0</td>\n",
       "      <td>1.0</td>\n",
       "    </tr>\n",
       "    <tr>\n",
       "      <th>29</th>\n",
       "      <td>400522049</td>\n",
       "      <td>عسگري علي</td>\n",
       "      <td>اصلي</td>\n",
       "      <td>عادي</td>\n",
       "      <td>1.0</td>\n",
       "      <td>1.0</td>\n",
       "      <td>NaN</td>\n",
       "    </tr>\n",
       "    <tr>\n",
       "      <th>30</th>\n",
       "      <td>400522076</td>\n",
       "      <td>عليزاده علي</td>\n",
       "      <td>اصلي</td>\n",
       "      <td>عادي</td>\n",
       "      <td>1.0</td>\n",
       "      <td>1.0</td>\n",
       "      <td>1.0</td>\n",
       "    </tr>\n",
       "    <tr>\n",
       "      <th>31</th>\n",
       "      <td>400522094</td>\n",
       "      <td>غلام زاده علي اكبر</td>\n",
       "      <td>اصلي</td>\n",
       "      <td>عادي</td>\n",
       "      <td>1.0</td>\n",
       "      <td>1.0</td>\n",
       "      <td>NaN</td>\n",
       "    </tr>\n",
       "    <tr>\n",
       "      <th>32</th>\n",
       "      <td>400522148</td>\n",
       "      <td>كمالي پرگو سيدعلي</td>\n",
       "      <td>اصلي</td>\n",
       "      <td>عادي</td>\n",
       "      <td>1.0</td>\n",
       "      <td>1.0</td>\n",
       "      <td>1.0</td>\n",
       "    </tr>\n",
       "    <tr>\n",
       "      <th>33</th>\n",
       "      <td>400522211</td>\n",
       "      <td>ملكي نژادشوشتري مرتضي</td>\n",
       "      <td>اصلي</td>\n",
       "      <td>عادي</td>\n",
       "      <td>1.0</td>\n",
       "      <td>1.0</td>\n",
       "      <td>1.0</td>\n",
       "    </tr>\n",
       "    <tr>\n",
       "      <th>34</th>\n",
       "      <td>400522229</td>\n",
       "      <td>منتظريزدي حميدرضا</td>\n",
       "      <td>اصلي</td>\n",
       "      <td>عادي</td>\n",
       "      <td>1.0</td>\n",
       "      <td>NaN</td>\n",
       "      <td>1.0</td>\n",
       "    </tr>\n",
       "    <tr>\n",
       "      <th>35</th>\n",
       "      <td>400522238</td>\n",
       "      <td>موحدي صفت اميرحسين</td>\n",
       "      <td>اصلي</td>\n",
       "      <td>عادي</td>\n",
       "      <td>1.0</td>\n",
       "      <td>1.0</td>\n",
       "      <td>1.0</td>\n",
       "    </tr>\n",
       "    <tr>\n",
       "      <th>36</th>\n",
       "      <td>400522247</td>\n",
       "      <td>مهرپيما سجاد</td>\n",
       "      <td>اصلي</td>\n",
       "      <td>عادي</td>\n",
       "      <td>1.0</td>\n",
       "      <td>1.0</td>\n",
       "      <td>1.0</td>\n",
       "    </tr>\n",
       "    <tr>\n",
       "      <th>37</th>\n",
       "      <td>400522337</td>\n",
       "      <td>يگانه دانيال</td>\n",
       "      <td>اصلي</td>\n",
       "      <td>عادي</td>\n",
       "      <td>1.0</td>\n",
       "      <td>1.0</td>\n",
       "      <td>1.0</td>\n",
       "    </tr>\n",
       "    <tr>\n",
       "      <th>38</th>\n",
       "      <td>400522346</td>\n",
       "      <td>جاموس شريف</td>\n",
       "      <td>اصلي</td>\n",
       "      <td>عادي</td>\n",
       "      <td>1.0</td>\n",
       "      <td>1.0</td>\n",
       "      <td>1.0</td>\n",
       "    </tr>\n",
       "    <tr>\n",
       "      <th>39</th>\n",
       "      <td>400522373</td>\n",
       "      <td>راعقي اميرحسين</td>\n",
       "      <td>اصلي</td>\n",
       "      <td>عادي</td>\n",
       "      <td>NaN</td>\n",
       "      <td>1.0</td>\n",
       "      <td>1.0</td>\n",
       "    </tr>\n",
       "    <tr>\n",
       "      <th>40</th>\n",
       "      <td>400522391</td>\n",
       "      <td>لاهوتي كوشا</td>\n",
       "      <td>اصلي</td>\n",
       "      <td>عادي</td>\n",
       "      <td>1.0</td>\n",
       "      <td>1.0</td>\n",
       "      <td>1.0</td>\n",
       "    </tr>\n",
       "  </tbody>\n",
       "</table>\n",
       "</div>"
      ],
      "text/plain": [
       "            0                           1     2                      3    4  \\\n",
       "0    97521153                           x  اصلي                   عادي  NaN   \n",
       "1    98300011            شكوري مقدم مهشاد  نظري                   عادي  1.0   \n",
       "2    98300056          صفايي مهر اميرحسين  نظري                   عادي  1.0   \n",
       "3    98300065                جيريايي زهرا  نظري                   عادي  1.0   \n",
       "4    98300092           جعفرزاده محمدمهدي  نظري                   عادي  NaN   \n",
       "5    98521009                  آتشكده علي  اصلي                   عادي  NaN   \n",
       "6    98521153  خادم شاهزاده طاهر محمدامين  اصلي                   عادي  NaN   \n",
       "7    99300029                سلطاني پرهام  نظري                   عادي  NaN   \n",
       "8    99300038              يزدي محمدارمان  نظري                   عادي  1.0   \n",
       "9    99400004               ايرانپور سارا  اصلي  مهمان از دانشگاه ديگر  1.0   \n",
       "10   99412042                  رحيمي محسن  اصلي                   عادي  NaN   \n",
       "11   99413019                  ليري ميلاد  اصلي                   عادي  NaN   \n",
       "12   99472068                  نانكلي علي  اصلي                   عادي  1.0   \n",
       "13   99522005      فرجي باويل عليائي جواد  اصلي                   عادي  NaN   \n",
       "14   99522068       محمدپوراشكلك محمدهادي  اصلي                   عادي  1.0   \n",
       "15   99522122              مقدم فر مهديار  اصلي                   عادي  NaN   \n",
       "16  400521027                ازاداني مبين  اصلي                   عادي  1.0   \n",
       "17  400521045                   اطهري علي  اصلي                   عادي  1.0   \n",
       "18  400521108             اميرفتاحي ارمين  اصلي                   عادي  1.0   \n",
       "19  400521189               پورنوين پوريا  اصلي                   عادي  1.0   \n",
       "20  400521216            جليلوند محمدجواد  اصلي                   عادي  NaN   \n",
       "21  400521243           حسينيان محمدپارسا  اصلي                   عادي  1.0   \n",
       "22  400521252             حقدادي محمدحسين  اصلي                   عادي  1.0   \n",
       "23  400521261   حنيفه زاده مرندي اميرحسين  اصلي                   عادي  1.0   \n",
       "24  400521279                   خادم حسين  اصلي                   عادي  1.0   \n",
       "25  400521342         ذبيحي چاشمي احمدرضا  اصلي                   عادي  1.0   \n",
       "26  400521405               سادات سيدحامد  اصلي                   عادي  1.0   \n",
       "27  400521468            شفيعي يكتا پارسا  اصلي                   عادي  1.0   \n",
       "28  400521477              شكوهي طرقي علي  اصلي                   عادي  1.0   \n",
       "29  400522049                   عسگري علي  اصلي                   عادي  1.0   \n",
       "30  400522076                 عليزاده علي  اصلي                   عادي  1.0   \n",
       "31  400522094          غلام زاده علي اكبر  اصلي                   عادي  1.0   \n",
       "32  400522148           كمالي پرگو سيدعلي  اصلي                   عادي  1.0   \n",
       "33  400522211       ملكي نژادشوشتري مرتضي  اصلي                   عادي  1.0   \n",
       "34  400522229           منتظريزدي حميدرضا  اصلي                   عادي  1.0   \n",
       "35  400522238          موحدي صفت اميرحسين  اصلي                   عادي  1.0   \n",
       "36  400522247                مهرپيما سجاد  اصلي                   عادي  1.0   \n",
       "37  400522337                يگانه دانيال  اصلي                   عادي  1.0   \n",
       "38  400522346                  جاموس شريف  اصلي                   عادي  1.0   \n",
       "39  400522373              راعقي اميرحسين  اصلي                   عادي  NaN   \n",
       "40  400522391                 لاهوتي كوشا  اصلي                   عادي  1.0   \n",
       "\n",
       "      5    6  \n",
       "0   NaN  NaN  \n",
       "1   NaN  NaN  \n",
       "2   1.0  1.0  \n",
       "3   NaN  1.0  \n",
       "4   NaN  NaN  \n",
       "5   NaN  NaN  \n",
       "6   NaN  NaN  \n",
       "7   NaN  NaN  \n",
       "8   1.0  1.0  \n",
       "9   1.0  1.0  \n",
       "10  NaN  1.0  \n",
       "11  1.0  1.0  \n",
       "12  1.0  NaN  \n",
       "13  1.0  NaN  \n",
       "14  NaN  1.0  \n",
       "15  NaN  NaN  \n",
       "16  1.0  1.0  \n",
       "17  1.0  1.0  \n",
       "18  1.0  1.0  \n",
       "19  1.0  1.0  \n",
       "20  1.0  1.0  \n",
       "21  1.0  1.0  \n",
       "22  1.0  1.0  \n",
       "23  1.0  1.0  \n",
       "24  1.0  NaN  \n",
       "25  NaN  NaN  \n",
       "26  1.0  1.0  \n",
       "27  1.0  1.0  \n",
       "28  1.0  1.0  \n",
       "29  1.0  NaN  \n",
       "30  1.0  1.0  \n",
       "31  1.0  NaN  \n",
       "32  1.0  1.0  \n",
       "33  1.0  1.0  \n",
       "34  NaN  1.0  \n",
       "35  1.0  1.0  \n",
       "36  1.0  1.0  \n",
       "37  1.0  1.0  \n",
       "38  1.0  1.0  \n",
       "39  1.0  1.0  \n",
       "40  1.0  1.0  "
      ]
     },
     "execution_count": 60,
     "metadata": {},
     "output_type": "execute_result"
    }
   ],
   "source": [
    "f"
   ]
  },
  {
   "cell_type": "code",
   "execution_count": null,
   "metadata": {},
   "outputs": [],
   "source": []
  }
 ],
 "metadata": {
  "kernelspec": {
   "display_name": "Python 3",
   "language": "python",
   "name": "python3"
  },
  "language_info": {
   "codemirror_mode": {
    "name": "ipython",
    "version": 3
   },
   "file_extension": ".py",
   "mimetype": "text/x-python",
   "name": "python",
   "nbconvert_exporter": "python",
   "pygments_lexer": "ipython3",
   "version": "3.8.5"
  }
 },
 "nbformat": 4,
 "nbformat_minor": 4
}
