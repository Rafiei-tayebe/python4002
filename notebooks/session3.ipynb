{
 "cells": [
  {
   "cell_type": "code",
   "execution_count": 7,
   "metadata": {},
   "outputs": [
    {
     "name": "stdout",
     "output_type": "stream",
     "text": [
      "3 20\n",
      "12000\n"
     ]
    }
   ],
   "source": [
    "# input\n",
    "hours, minutes = input().split()\n",
    "hours = int(hours) # 3\n",
    "minutes = int(minutes) # 20\n",
    "\n",
    "# calculations\n",
    "seconds = (hours * 60 * 60) + (minutes * 60)\n",
    "# seconds = hours * 60 * 60 + minutes * 60\n",
    "\n",
    "# output\n",
    "print(seconds)"
   ]
  },
  {
   "cell_type": "code",
   "execution_count": 32,
   "metadata": {},
   "outputs": [
    {
     "name": "stdout",
     "output_type": "stream",
     "text": [
      "3 20\n"
     ]
    }
   ],
   "source": [
    "hours, minutes = map(int ,input().split())"
   ]
  },
  {
   "cell_type": "code",
   "execution_count": 34,
   "metadata": {},
   "outputs": [
    {
     "name": "stdout",
     "output_type": "stream",
     "text": [
      "<class 'int'>\n"
     ]
    }
   ],
   "source": [
    "print(type(hours))"
   ]
  },
  {
   "cell_type": "code",
   "execution_count": null,
   "metadata": {},
   "outputs": [],
   "source": [
    "# input\n",
    "hours, minutes = input().split()\n",
    "hours = int(hours) # 3\n",
    "minutes = int(minutes) # 20"
   ]
  },
  {
   "cell_type": "code",
   "execution_count": 8,
   "metadata": {},
   "outputs": [
    {
     "name": "stdout",
     "output_type": "stream",
     "text": [
      "3\n",
      "20\n",
      "12000\n"
     ]
    }
   ],
   "source": [
    "# input\n",
    "hours = input()\n",
    "minutes = input()\n",
    "hours = int(hours) # 3\n",
    "minutes = int(minutes) # 20\n",
    "\n",
    "# calculations\n",
    "seconds = (hours * 60 * 60) + (minutes * 60)\n",
    "# seconds = hours * 60 * 60 + minutes * 60\n",
    "\n",
    "# output\n",
    "print(seconds)"
   ]
  },
  {
   "cell_type": "code",
   "execution_count": 9,
   "metadata": {},
   "outputs": [
    {
     "name": "stdout",
     "output_type": "stream",
     "text": [
      "Number     Square     Cube\n"
     ]
    }
   ],
   "source": [
    "print('Number' + '     ' + 'Square' + ' '*5 + 'Cube')"
   ]
  },
  {
   "cell_type": "code",
   "execution_count": 10,
   "metadata": {},
   "outputs": [
    {
     "name": "stdout",
     "output_type": "stream",
     "text": [
      "Number     Square     Cube\n",
      "     1          1        1\n"
     ]
    }
   ],
   "source": [
    "print('Number' + '     ' + 'Square' + ' '*5 + 'Cube')\n",
    "print('     1' + ' '*10 + '1' + ' '*8 + '1')"
   ]
  },
  {
   "cell_type": "code",
   "execution_count": 16,
   "metadata": {},
   "outputs": [
    {
     "name": "stdout",
     "output_type": "stream",
     "text": [
      "Number     Square     Cube\n",
      "     1          1        1\n",
      "     2          4        8\n",
      "     3          9       27\n",
      "     4         16       64\n",
      "     5         25      125\n",
      "    10\n"
     ]
    }
   ],
   "source": [
    "print('Number' + '     ' + 'Square' + ' '*5 + 'Cube')\n",
    "print('     1' + ' '*10 + '1' + ' '*8 + '1')\n",
    "print('     2' + ' '*10 + '4' + ' '*8 + '8')\n",
    "print('     3' + ' '*10 + '9' + ' '*7 + '27')\n",
    "print('     4' + ' '*9 + '16' + ' '*7 + '64')\n",
    "print('     5' + ' '*9 + '25' + ' '*6 + '125')\n",
    "print(' '*4 + '10' + )"
   ]
  },
  {
   "cell_type": "code",
   "execution_count": 30,
   "metadata": {},
   "outputs": [
    {
     "name": "stdout",
     "output_type": "stream",
     "text": [
      "Number     Square     Cube\n",
      "     1          1        1\n",
      "     2          4        8\n",
      "     3          9       27\n",
      "     4         16       64\n",
      "     5         25      125\n",
      "    10        100\n"
     ]
    }
   ],
   "source": [
    "print('Number' + '     ' + 'Square' + ' '*5 + 'Cube')\n",
    "print('     1' + ' '*10 + '1' + ' '*8 + '1')\n",
    "print('     2' + ' '*10 + '4' + ' '*8 + '8')\n",
    "print('     3' + ' '*10 + '9' + ' '*7 + '27')\n",
    "print('     4' + ' '*9 + '16' + ' '*7 + '64')\n",
    "print('     5' + ' '*9 + '25' + ' '*6 + '125')\n",
    "\n",
    "n = 10\n",
    "count1 = math.floor(math.log10(n)) + 1 # 2\n",
    "space1 = 6 - count # 4\n",
    "\n",
    "count2 = math.floor(math.log10(n**2)) + 1 # 2\n",
    "space2 = 11-count2\n",
    "\n",
    "print(' '*space1 + str(n) + ' '*space2 + str(n**2))"
   ]
  },
  {
   "cell_type": "code",
   "execution_count": 26,
   "metadata": {},
   "outputs": [
    {
     "name": "stdout",
     "output_type": "stream",
     "text": [
      "2\n"
     ]
    }
   ],
   "source": [
    "import math\n",
    "x = 10\n",
    "count = math.floor(math.log10(x)) + 1\n",
    "print(count)"
   ]
  },
  {
   "cell_type": "code",
   "execution_count": 42,
   "metadata": {},
   "outputs": [
    {
     "name": "stdout",
     "output_type": "stream",
     "text": [
      "0 1 1 0\n",
      "(255, 0, 0)\n"
     ]
    }
   ],
   "source": [
    "# inputs\n",
    "C, M, Y, K = map(float, input().split())\n",
    "\n",
    "# C, M, Y, K = input().split()\n",
    "# C = float(C)\n",
    "# M = float(M)\n",
    "# Y = float(Y)\n",
    "# K = float(K)\n",
    "\n",
    "# calculations\n",
    "R = int(255 * (1 - C) * (1 - K))\n",
    "G = int(255 * (1 - M) * (1 - K))\n",
    "B = int(255 * (1 - Y) * (1 - K))\n",
    "\n",
    "# output\n",
    "# R, G, B = map(str,(R, G, B))\n",
    "# print('(' + R + ', ' + G + ', ' + B + ')')\n",
    "print('(', end = '')\n",
    "print(R, G, B, sep = ', ', end = '')\n",
    "print(')')"
   ]
  },
  {
   "cell_type": "code",
   "execution_count": 45,
   "metadata": {},
   "outputs": [
    {
     "name": "stdout",
     "output_type": "stream",
     "text": [
      "(255, 0, 0)\n"
     ]
    }
   ],
   "source": [
    "print(f'({R}, {G}, {B})')"
   ]
  },
  {
   "cell_type": "code",
   "execution_count": 57,
   "metadata": {},
   "outputs": [
    {
     "name": "stdout",
     "output_type": "stream",
     "text": [
      "a + b = 5\n"
     ]
    }
   ],
   "source": [
    "a = 2\n",
    "b = 3\n",
    "print(f'a + b = {a+b}')"
   ]
  },
  {
   "cell_type": "code",
   "execution_count": 48,
   "metadata": {},
   "outputs": [
    {
     "name": "stdout",
     "output_type": "stream",
     "text": [
      "10 hello\n"
     ]
    }
   ],
   "source": [
    "a = 10 \n",
    "b = 'hello'\n",
    "print(f'{a} {b}')"
   ]
  },
  {
   "cell_type": "code",
   "execution_count": null,
   "metadata": {},
   "outputs": [],
   "source": [
    "print()"
   ]
  },
  {
   "cell_type": "code",
   "execution_count": 36,
   "metadata": {},
   "outputs": [
    {
     "name": "stdout",
     "output_type": "stream",
     "text": [
      "0.0 1.0 1.0 0.0\n"
     ]
    }
   ],
   "source": [
    "print(C, M, Y, K)"
   ]
  },
  {
   "cell_type": "code",
   "execution_count": 37,
   "metadata": {},
   "outputs": [
    {
     "name": "stdout",
     "output_type": "stream",
     "text": [
      "Enter a number: 20\n"
     ]
    }
   ],
   "source": [
    "a = input('Enter a number: ')"
   ]
  },
  {
   "cell_type": "code",
   "execution_count": null,
   "metadata": {},
   "outputs": [],
   "source": [
    "# Variable / types\n",
    "# input / output / calculations\n",
    "# Conditions (if / else / elif) (and/ or)"
   ]
  },
  {
   "cell_type": "code",
   "execution_count": 50,
   "metadata": {},
   "outputs": [
    {
     "name": "stdout",
     "output_type": "stream",
     "text": [
      "Smaller\n",
      "OK\n"
     ]
    }
   ],
   "source": [
    "a = 8\n",
    "if a > 10 :\n",
    "    print('Greater')\n",
    "if a < 10 :\n",
    "    print('Smaller')\n",
    "    print('OK')\n",
    "if a == 10:\n",
    "    print('Equal')"
   ]
  },
  {
   "cell_type": "code",
   "execution_count": 56,
   "metadata": {},
   "outputs": [
    {
     "name": "stdout",
     "output_type": "stream",
     "text": [
      "22\n",
      "Invalid\n",
      "A\n",
      "B\n",
      "C\n"
     ]
    }
   ],
   "source": [
    "mark = float(input())\n",
    "if mark > 20 or mark < 0: # agar\n",
    "    print('Invalid')\n",
    "if mark > 17 : # dar gheir in soorat, agar\n",
    "    print('A')\n",
    "if mark > 15 :\n",
    "    print('B')\n",
    "if mark > 10:\n",
    "    print('C')\n",
    "else: # dar gheir in soorat\n",
    "    print('F')"
   ]
  },
  {
   "cell_type": "code",
   "execution_count": null,
   "metadata": {},
   "outputs": [],
   "source": []
  }
 ],
 "metadata": {
  "kernelspec": {
   "display_name": "Python 3",
   "language": "python",
   "name": "python3"
  },
  "language_info": {
   "codemirror_mode": {
    "name": "ipython",
    "version": 3
   },
   "file_extension": ".py",
   "mimetype": "text/x-python",
   "name": "python",
   "nbconvert_exporter": "python",
   "pygments_lexer": "ipython3",
   "version": "3.8.5"
  }
 },
 "nbformat": 4,
 "nbformat_minor": 4
}
