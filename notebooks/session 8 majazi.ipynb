{
 "cells": [
  {
   "cell_type": "code",
   "execution_count": 1,
   "metadata": {},
   "outputs": [],
   "source": [
    "import requests\n",
    "from bs4 import BeautifulSoup"
   ]
  },
  {
   "cell_type": "code",
   "execution_count": 2,
   "metadata": {},
   "outputs": [],
   "source": [
    "page = requests.get('https://www.tgju.org/')"
   ]
  },
  {
   "cell_type": "code",
   "execution_count": 4,
   "metadata": {},
   "outputs": [],
   "source": [
    "soup = BeautifulSoup(page.text, 'html.parser')"
   ]
  },
  {
   "cell_type": "code",
   "execution_count": 7,
   "metadata": {},
   "outputs": [],
   "source": [
    "x = soup.find('li', {'id' : 'l-bourse'})"
   ]
  },
  {
   "cell_type": "code",
   "execution_count": 8,
   "metadata": {},
   "outputs": [
    {
     "name": "stdout",
     "output_type": "stream",
     "text": [
      "<li class=\"high\" id=\"l-bourse\" onclick=\"window.location='markets/stock'\" style=\"\">\n",
      "<h3><em></em> بورس</h3>\n",
      "<span class=\"info-value\">\n",
      "<span class=\"info-price\">1,578,411.0</span>\n",
      "</span>\n",
      "<span class=\"info-change\">(0.89%) 13,961.9</span>\n",
      "</li>\n"
     ]
    }
   ],
   "source": [
    "print(x)"
   ]
  },
  {
   "cell_type": "code",
   "execution_count": 11,
   "metadata": {},
   "outputs": [],
   "source": [
    "x_text = x.find('span', {'class' : 'info-price'})"
   ]
  },
  {
   "cell_type": "code",
   "execution_count": 13,
   "metadata": {},
   "outputs": [
    {
     "data": {
      "text/plain": [
       "<span class=\"info-price\">1,578,411.0</span>"
      ]
     },
     "execution_count": 13,
     "metadata": {},
     "output_type": "execute_result"
    }
   ],
   "source": [
    "x_text"
   ]
  },
  {
   "cell_type": "code",
   "execution_count": 12,
   "metadata": {},
   "outputs": [
    {
     "data": {
      "text/plain": [
       "'1,578,411.0'"
      ]
     },
     "execution_count": 12,
     "metadata": {},
     "output_type": "execute_result"
    }
   ],
   "source": [
    "x_text.text"
   ]
  },
  {
   "cell_type": "code",
   "execution_count": 14,
   "metadata": {},
   "outputs": [],
   "source": [
    "page = requests.get('https://maktabkhooneh.org/learn/?p=1&')\n",
    "soup = BeautifulSoup(page.text, 'html.parser')"
   ]
  },
  {
   "cell_type": "code",
   "execution_count": 16,
   "metadata": {},
   "outputs": [],
   "source": [
    "info = soup.find_all('div', {'class' : 'course-card__content'})"
   ]
  },
  {
   "cell_type": "code",
   "execution_count": 17,
   "metadata": {},
   "outputs": [
    {
     "data": {
      "text/plain": [
       "<div class=\"course-card__content\">\n",
       "<div class=\"course-card__title\">آموزش رایگان صفر تا صد معادلات دیفرانسیل</div>\n",
       "<div class=\"course-card__info\">\n",
       "<div class=\"course-card__uni\">\n",
       "<img alt=\"دانشگاه شهید بهشتی\" class=\"course-card__uni-img lazy\" data-src=\"/media/CACHE/images/organizations/images/sbu/af3097af8c295e43acf3dac22eba284d.jpg\" src=\"/static/images/maktabkhooneh/logo_small.png\" title=\"دانشگاه شهید بهشتی\"/>\n",
       "<div class=\"course-card__uni-title\">دانشگاه شهید بهشتی</div>\n",
       "</div>\n",
       "<div class=\"course-card__teacher\">\n",
       "                    \n",
       "                        شهرام منصوری\n",
       "                    \n",
       "                </div>\n",
       "</div>\n",
       "<div class=\"course-card__discount-wrapper\">\n",
       "</div>\n",
       "</div>"
      ]
     },
     "execution_count": 17,
     "metadata": {},
     "output_type": "execute_result"
    }
   ],
   "source": [
    "info[0]"
   ]
  },
  {
   "cell_type": "code",
   "execution_count": 19,
   "metadata": {},
   "outputs": [
    {
     "data": {
      "text/plain": [
       "'آموزش رایگان صفر تا صد معادلات دیفرانسیل'"
      ]
     },
     "execution_count": 19,
     "metadata": {},
     "output_type": "execute_result"
    }
   ],
   "source": [
    "info[0].find('div', {'class' : 'course-card__title'}).text"
   ]
  },
  {
   "cell_type": "code",
   "execution_count": 21,
   "metadata": {},
   "outputs": [
    {
     "data": {
      "text/plain": [
       "'شهرام منصوری'"
      ]
     },
     "execution_count": 21,
     "metadata": {},
     "output_type": "execute_result"
    }
   ],
   "source": [
    "info[0].find('div', {'class' : 'course-card__teacher' }).text.strip()"
   ]
  },
  {
   "cell_type": "code",
   "execution_count": 27,
   "metadata": {},
   "outputs": [
    {
     "name": "stdout",
     "output_type": "stream",
     "text": [
      "PAGE 1\n",
      "آموزش رایگان صفر تا صد معادلات دیفرانسیل\n",
      "شهرام منصوری\n",
      "دانشگاه شهید بهشتی\n",
      "-----------\n",
      "معرفی دانشکده‌ها و رشته‌های کارشناسی ارشد حوزه ارتباطات و رسانه\n",
      "جمعی از اساتید رسانیوم\n",
      "رسانیوم\n",
      "-----------\n",
      "آموزش رایگان ریاضی مهندسی\n",
      "علی مس‌فروش\n",
      "آکادمی دکتر مس‌فروش\n",
      "-----------\n",
      "مبانی اقتصاد\n",
      "جمعی از اساتید اندیشکده سیاست‌گذاری اقتصاد تهران\n",
      "اندیشکده سیاست‌گذاری اقتصادی تهران\n",
      "-----------\n",
      "مهارت‌های هفت‌گانه کامپیوتر (ICDL) برای کودکان\n",
      "فاطمه نجفی\n",
      "مکتب‌خونه\n",
      "-----------\n",
      "آموزش رایگان فیزیک پایه 1\n",
      "شهاب نوروزیان\n",
      "دانشگاه علم و صنعت\n",
      "-----------\n",
      "آموزش زبان فرانسه مقدماتی سطح (A1.1)\n",
      "پویا استادپور\n",
      "مکتب‌خونه\n",
      "-----------\n",
      "آموزش رایگان ديناميك پيشرفته 1\n",
      "علي محمد شافعی\n",
      "دانشگاه شهید باهنر کرمان\n",
      "-----------\n",
      "آموزش رایگان Emmet\n",
      "علی شیخ\n",
      "وب ‌پروگ\n",
      "-----------\n",
      "آموزش رایگان Sass\n",
      "علی شیخ\n",
      "وب ‌پروگ\n",
      "-----------\n",
      "آموزش ‌ACCA ابر آروان\n",
      "محمد رهنمافرد\n",
      "ابر آروان\n",
      "-----------\n",
      "صفر تا صد قبولی در مقطع دکتری از زبان دانشجویان ارتباطات …\n",
      "جمعی از اساتید رسانیوم\n",
      "رسانیوم\n",
      "-----------\n",
      "شبیه‌سازی دفاع از پایان‌نامه\n",
      "زرین زردار - سیاوش صلواتیان\n",
      "رسانیوم\n",
      "-----------\n",
      "آموزش سیستم ادمین با لینوکس - مقدماتی\n",
      "نصیر خانی\n",
      "مکتب‌خونه\n",
      "-----------\n",
      "آموزش PHP\n",
      "آرش رحیمی\n",
      "مکتب‌خونه\n",
      "-----------\n",
      "PAGE 2\n",
      "آموزش اسکرام کاربردی با استفاده از ابزار جیرا\n",
      "سید مسعود سجاد\n",
      "مکتب‌خونه\n",
      "-----------\n",
      "آموزش رایگان انقلاب علمی قرن هفدهم\n",
      "امیرمحمد گمینی\n",
      "دانشگاه تهران\n",
      "-----------\n",
      "یادگیری عمیق با تنسورفلو و کراس\n",
      "پژمان اقبالی\n",
      "مکتب‌خونه\n",
      "-----------\n",
      "آموزش تکنیک‌های خلاقیت\n",
      "هادی افشاری\n",
      "مکتب‌خونه\n",
      "-----------\n",
      "آموزش ریدینگ تافل\n",
      "سام زرین‌ مهر\n",
      "مکتب‌خونه\n",
      "-----------\n",
      "اینستاگرام مارکتینگ\n",
      "علی رضافر\n",
      "مکتب‌خونه\n",
      "-----------\n",
      "آموزش جامع معامله‌گری و تحلیل تکنیکال ارزهای دیجیتال\n",
      "سامان منتظری\n",
      "مکتب‌خونه\n",
      "-----------\n",
      "آموزش اصول مقاله‌ نویسی ISI\n",
      "شهلا شیرازی‌نیا\n",
      "مکتب‌خونه\n",
      "-----------\n",
      "آموزش لغات ضروری آیلتس\n",
      "هادی فدایی\n",
      "مکتب‌خونه\n",
      "-----------\n",
      "آموزش لینوکس\n",
      "شاهین عبدی\n",
      "مکتب‌خونه\n",
      "-----------\n",
      "آموزش Postman\n",
      "علی شیخ\n",
      "وب ‌پروگ\n",
      "-----------\n",
      "آموزش Livewire\n",
      "علی شیخ\n",
      "وب ‌پروگ\n",
      "-----------\n",
      "آموزش Materialize\n",
      "علی شیخ\n",
      "وب ‌پروگ\n",
      "-----------\n",
      "آموزش RedHat و اصول لینوکس\n",
      "کریس کایلوت\n",
      "IBM\n",
      "-----------\n",
      "آموزش رایگان تحلیل سازه 2\n",
      "محمدجواد حمیدیا\n",
      "دانشگاه شهید بهشتی\n",
      "-----------\n",
      "PAGE 3\n",
      "آموزش ساخت فروشگاه اینترنتی با لاراول\n",
      "علی شیخ\n",
      "وب ‌پروگ\n",
      "-----------\n",
      "تعیین سطح زبان آلمانی\n",
      "جمعی از اساتید مکتب‌خونه\n",
      "مکتب‌خونه\n",
      "-----------\n",
      "آموزش React Native\n",
      "احسان گازار\n",
      "مکتب‌خونه\n",
      "-----------\n",
      "آموزش رایگان یادگیری عمیق کاربردی\n",
      "جواد کاظمی‌تبار - عاطفه عطائی\n",
      "مکتب‌خونه\n",
      "-----------\n",
      "آموزش انگلیسی در سفر\n",
      "پرهام خدابخش مقدم - سمیرا پیام‌وش\n",
      "مکتب‌خونه\n",
      "-----------\n",
      "آموزش رایگان مقاومت مصالح 1\n",
      "حمید محمدنژاد\n",
      "دانشگاه شهید بهشتی\n",
      "-----------\n",
      "آموزش تابلوخوانی و نوسان‌گیری در بازار بورس\n",
      "رضا شاکری\n",
      "مکتب‌خونه\n",
      "-----------\n",
      "تصحیح رایتینگ آیلتس (4 تایی)\n",
      "تیم تصحیح مکتب‌خونه\n",
      "مکتب‌خونه\n",
      "-----------\n",
      "تصحیح رایتینگ آیلتس (12 تایی)\n",
      "تیم تصحیح مکتب‌خونه\n",
      "مکتب‌خونه\n",
      "-----------\n",
      "تصحیح رایتینگ آیلتس (20 تایی)\n",
      "تیم تصحیح مکتب‌خونه\n",
      "مکتب‌خونه\n",
      "-----------\n",
      "آموزش تحقیق کلمات کلیدی برای سئو (Keyword Research)\n",
      "عادل طالبی\n",
      "مکتب‌خونه\n",
      "-----------\n",
      "معامله‌گری ارزهای دیجیتال و بیت‌کوین\n",
      "Wealthy Education\n",
      "Udemy\n",
      "-----------\n",
      "آموزش اصول پایگاه داده و SQL Server\n",
      "حمیدرضا صادقیان\n",
      "مکتب‌خونه\n",
      "-----------\n",
      "مهارت‌های اکسل برای کسب‌وکار - متوسط\n",
      "Nicky Bull - Prashan Karunaratne - Yvonne Breyer\n",
      "Macquarie University\n",
      "-----------\n",
      "آموزش گوگل آنالیتیکس پیشرفته\n",
      "Justin Cutroni - Krista Seiden\n",
      "Analytics Academy\n",
      "-----------\n"
     ]
    }
   ],
   "source": [
    "import requests\n",
    "from bs4 import BeautifulSoup\n",
    "\n",
    "for i in range(1, 4):\n",
    "    print('PAGE', i)\n",
    "    page = requests.get(f'https://maktabkhooneh.org/learn/?p={i}&')\n",
    "    soup = BeautifulSoup(page.text, 'html.parser')\n",
    "\n",
    "    info = soup.find_all('div', {'class' : 'course-card__content'})\n",
    "\n",
    "    for inf in info:\n",
    "        print(inf.find('div', {'class' : 'course-card__title'}).text)\n",
    "        print(inf.find('div', {'class' : 'course-card__teacher' }).text.strip())\n",
    "        print(inf.find('div', {'class' : 'course-card__uni-title'}).text)\n",
    "        print('-----------')"
   ]
  },
  {
   "cell_type": "code",
   "execution_count": null,
   "metadata": {},
   "outputs": [],
   "source": []
  },
  {
   "cell_type": "code",
   "execution_count": null,
   "metadata": {},
   "outputs": [],
   "source": [
    "page = requests.get('https://www.tgju.org/')"
   ]
  },
  {
   "cell_type": "code",
   "execution_count": null,
   "metadata": {},
   "outputs": [],
   "source": [
    "print(page)"
   ]
  },
  {
   "cell_type": "code",
   "execution_count": null,
   "metadata": {},
   "outputs": [],
   "source": [
    "print(page.text)"
   ]
  },
  {
   "cell_type": "code",
   "execution_count": null,
   "metadata": {},
   "outputs": [],
   "source": [
    "print(type(page.text))"
   ]
  },
  {
   "cell_type": "code",
   "execution_count": null,
   "metadata": {},
   "outputs": [],
   "source": [
    "soup = BeautifulSoup(page.text, 'html.parser')"
   ]
  },
  {
   "cell_type": "code",
   "execution_count": null,
   "metadata": {},
   "outputs": [],
   "source": [
    "print(soup.prettify())"
   ]
  },
  {
   "cell_type": "code",
   "execution_count": null,
   "metadata": {},
   "outputs": [],
   "source": [
    "s = soup.find_all('span', {'class' : 'info-price'})"
   ]
  },
  {
   "cell_type": "code",
   "execution_count": null,
   "metadata": {},
   "outputs": [],
   "source": [
    "s"
   ]
  },
  {
   "cell_type": "code",
   "execution_count": null,
   "metadata": {},
   "outputs": [],
   "source": [
    "for _ in s:\n",
    "    print(_.text)"
   ]
  },
  {
   "cell_type": "code",
   "execution_count": null,
   "metadata": {},
   "outputs": [],
   "source": [
    "s = soup.find('tr', {'data-market-row' : 'gc3'})"
   ]
  },
  {
   "cell_type": "code",
   "execution_count": null,
   "metadata": {},
   "outputs": [],
   "source": [
    "s = soup.find('tr', {'data-market-row' : 'gc3'})"
   ]
  },
  {
   "cell_type": "code",
   "execution_count": null,
   "metadata": {},
   "outputs": [],
   "source": [
    "s"
   ]
  },
  {
   "cell_type": "code",
   "execution_count": null,
   "metadata": {},
   "outputs": [],
   "source": [
    "s.td.text"
   ]
  },
  {
   "cell_type": "code",
   "execution_count": null,
   "metadata": {},
   "outputs": [],
   "source": []
  }
 ],
 "metadata": {
  "kernelspec": {
   "display_name": "Python 3",
   "language": "python",
   "name": "python3"
  },
  "language_info": {
   "codemirror_mode": {
    "name": "ipython",
    "version": 3
   },
   "file_extension": ".py",
   "mimetype": "text/x-python",
   "name": "python",
   "nbconvert_exporter": "python",
   "pygments_lexer": "ipython3",
   "version": "3.8.5"
  }
 },
 "nbformat": 4,
 "nbformat_minor": 4
}
