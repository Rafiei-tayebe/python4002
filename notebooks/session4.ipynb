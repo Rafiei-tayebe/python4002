{
 "cells": [
  {
   "cell_type": "code",
   "execution_count": 20,
   "metadata": {},
   "outputs": [
    {
     "name": "stdout",
     "output_type": "stream",
     "text": [
      "120\n",
      "Steam\n"
     ]
    }
   ],
   "source": [
    "T = input()\n",
    "T = int(T)\n",
    "\n",
    "# T = int(input())\n",
    "\n",
    "if T > 100 : # T > 100\n",
    "    print('Steam')    \n",
    "else: # T <= 100\n",
    "    if T <= 0 :  # T <= 0\n",
    "        print('Ice')\n",
    "    \n",
    "    else: #    0 < T <= 100\n",
    "        print('Water')\n",
    "    \n"
   ]
  },
  {
   "cell_type": "code",
   "execution_count": null,
   "metadata": {},
   "outputs": [],
   "source": [
    "T = input()\n",
    "T = int(T)\n",
    "\n",
    "# T = int(input())\n",
    "\n",
    "if T > 100 : # T > 100\n",
    "    print('Steam')    \n",
    "\n",
    "elif T <= 0 :  # T <= 0\n",
    "    print('Ice')\n",
    "    \n",
    "else: #    0 < T <= 100\n",
    "    print('Water')\n",
    "    \n"
   ]
  },
  {
   "cell_type": "code",
   "execution_count": 22,
   "metadata": {},
   "outputs": [
    {
     "name": "stdout",
     "output_type": "stream",
     "text": [
      "421 < 123\n"
     ]
    }
   ],
   "source": [
    "a = 123 # -> 321\n",
    "b = 421\n",
    "\n",
    "a_ = 321\n",
    "b_ = 124\n",
    "\n",
    "if b_ < a_ :\n",
    "    print(b, '<', a)"
   ]
  },
  {
   "cell_type": "code",
   "execution_count": 35,
   "metadata": {},
   "outputs": [
    {
     "name": "stdout",
     "output_type": "stream",
     "text": [
      "123\n",
      "123\n",
      "123 = 123\n"
     ]
    }
   ],
   "source": [
    "a = int(input())\n",
    "b = int(input())\n",
    "\n",
    "sadgan_a = int(a/100)  # a // 100\n",
    "yekan_a = a % 10\n",
    "dahgan_a = (a//10) % 10\n",
    "\n",
    "sadgan_b = int(b/100)  # a // 100\n",
    "yekan_b = b % 10\n",
    "dahgan_b = (b//10) % 10\n",
    "\n",
    "a_ = yekan_a*100 + dahgan_a*10 + sadgan_a\n",
    "b_ = yekan_b*100 + dahgan_b*10 + sadgan_b\n",
    "\n",
    "if a_ < b_ :\n",
    "    print(a, '<', b)\n",
    "if b_ < a_ :\n",
    "    print(b, '<', a)\n",
    "if b_ == a_:\n",
    "    print(a, '=', b)"
   ]
  },
  {
   "cell_type": "code",
   "execution_count": 34,
   "metadata": {},
   "outputs": [
    {
     "name": "stdout",
     "output_type": "stream",
     "text": [
      "421 < 123\n"
     ]
    }
   ],
   "source": [
    "if a_ < b_ :\n",
    "    print(a, '<', b)\n",
    "elif b_ < a_ :\n",
    "    print(b, '<', a)\n",
    "else:\n",
    "    print(a, '=', b)"
   ]
  },
  {
   "cell_type": "code",
   "execution_count": 40,
   "metadata": {},
   "outputs": [
    {
     "ename": "SyntaxError",
     "evalue": "invalid syntax (<ipython-input-40-be36166398a6>, line 20)",
     "output_type": "error",
     "traceback": [
      "\u001b[1;36m  File \u001b[1;32m\"<ipython-input-40-be36166398a6>\"\u001b[1;36m, line \u001b[1;32m20\u001b[0m\n\u001b[1;33m    else count == 0:\u001b[0m\n\u001b[1;37m    ^\u001b[0m\n\u001b[1;31mSyntaxError\u001b[0m\u001b[1;31m:\u001b[0m invalid syntax\n"
     ]
    }
   ],
   "source": [
    "a = int(input())\n",
    "sadgan_a = int(a/100)  # a // 100\n",
    "yekan_a = a % 10\n",
    "dahgan_a = (a//10) % 10\n",
    "\n",
    "count = 0\n",
    "if yekan_a +  sadgan_a == 2 * dahgan_a :\n",
    "    count = count + 1 # count = 1\n",
    "if (yekan_a + dahgan_a + sadgan_a) % 3 == 0:\n",
    "    count = count + 1\n",
    "if (sadgan_a > dahgan_a) and (sadgan_a > yekan_a) :\n",
    "    count = count + 1\n",
    "    \n",
    "if count == 3 :\n",
    "    print('Very Good')\n",
    "if count == 2 :\n",
    "    print('Good')\n",
    "if count == 1 :\n",
    "    print('Normal')\n",
    "if count == 0:\n",
    "    print('Bad')\n",
    "    "
   ]
  },
  {
   "cell_type": "code",
   "execution_count": null,
   "metadata": {},
   "outputs": [],
   "source": [
    "if count == 3 :\n",
    "    print('Very Good')\n",
    "elif count == 2 :\n",
    "    print('Good')\n",
    "elif count == 1 :\n",
    "    print('Normal')\n",
    "else:\n",
    "    print('Bad')"
   ]
  },
  {
   "cell_type": "code",
   "execution_count": null,
   "metadata": {},
   "outputs": [],
   "source": [
    "if count == 3 :\n",
    "    print('Very Good')\n",
    "else: # count = 2 | 1 | 0\n",
    "    if count == 2 :\n",
    "        print('Good')\n",
    "    else: # count 1 | 0\n",
    "        if count == 1:\n",
    "            print('Normal')\n",
    "        else: # count = 0\n",
    "            print('Bad')"
   ]
  },
  {
   "cell_type": "code",
   "execution_count": null,
   "metadata": {},
   "outputs": [],
   "source": [
    "0.123000"
   ]
  },
  {
   "cell_type": "code",
   "execution_count": 42,
   "metadata": {},
   "outputs": [
    {
     "name": "stdout",
     "output_type": "stream",
     "text": [
      "sqrt\n",
      "10000\n",
      "100.000000\n"
     ]
    }
   ],
   "source": [
    "import math\n",
    "\n",
    "operator = input()\n",
    "a = float(input())\n",
    "if operator != 'sqrt':\n",
    "    b = float(input())\n",
    "    \n",
    "if operator == '+':\n",
    "    print('%.6f'%(a+b))\n",
    "if operator == '-':\n",
    "    print('%.6f'%(a-b))\n",
    "if operator == '*':\n",
    "    print('%.6f'%(a*b))\n",
    "if operator == '/':\n",
    "    print('%.6f'%(a*b))\n",
    "if operator == 'sqrt':\n",
    "    print('%.6f'%(math.sqrt(a)))\n",
    "if operator == '%':\n",
    "    print(int(a) % int(b))"
   ]
  },
  {
   "cell_type": "code",
   "execution_count": 46,
   "metadata": {},
   "outputs": [
    {
     "name": "stdout",
     "output_type": "stream",
     "text": [
      "8\n",
      "Number     Square     Cube\n",
      "     1          1        1\n",
      "     2          4        8\n",
      "     3          9       27\n",
      "     4         16       64\n",
      "     5         25      125\n",
      "     8         64      512\n"
     ]
    }
   ],
   "source": [
    "a = input()\n",
    "a = int(a)\n",
    "s = a**2\n",
    "c = a**3\n",
    "\n",
    "\n",
    "\n",
    "print(\"Number\" + \" \"*5 + \"Square\" + \" \"*5 + \"Cube\")\n",
    "print(\" \"*5 + \"1\" +\" \"*10 + \"1\" + \" \"*8 + \"1\")\n",
    "print(\" \"*5 + \"2\" +\" \"*10 + \"4\" + \" \"*8 + \"8\")\n",
    "print(\" \"*5 + \"3\" +\" \"*10 + \"9\" + \" \"*7 + \"27\")\n",
    "print(\" \"*5 + \"4\" +\" \"*9 + \"16\" + \" \"*7 + \"64\")\n",
    "print(\" \"*5 + \"5\" +\" \"*9 + \"25\" + \" \"*6 + \"125\")\n",
    "print(\" \"*(6-len(str(a))) + str(a) +\" \"*(11-len(str(s))) + str(s) + \" \"*(9-len(str(c))) + str(c))"
   ]
  },
  {
   "cell_type": "code",
   "execution_count": 44,
   "metadata": {},
   "outputs": [
    {
     "data": {
      "text/plain": [
       "5"
      ]
     },
     "execution_count": 44,
     "metadata": {},
     "output_type": "execute_result"
    }
   ],
   "source": [
    "Number     Square     Cube\n",
    "     1          1        1\n",
    "     2          4        8\n",
    "     3          9       27\n",
    "     4         16       64\n",
    "     5         25      125\n",
    "     8         64      512"
   ]
  },
  {
   "cell_type": "code",
   "execution_count": null,
   "metadata": {},
   "outputs": [],
   "source": []
  }
 ],
 "metadata": {
  "kernelspec": {
   "display_name": "Python 3",
   "language": "python",
   "name": "python3"
  },
  "language_info": {
   "codemirror_mode": {
    "name": "ipython",
    "version": 3
   },
   "file_extension": ".py",
   "mimetype": "text/x-python",
   "name": "python",
   "nbconvert_exporter": "python",
   "pygments_lexer": "ipython3",
   "version": "3.8.5"
  }
 },
 "nbformat": 4,
 "nbformat_minor": 4
}
