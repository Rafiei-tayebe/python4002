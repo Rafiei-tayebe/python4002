{
 "cells": [
  {
   "cell_type": "code",
   "execution_count": null,
   "metadata": {},
   "outputs": [],
   "source": [
    "# Data structures:\n",
    "# 1. list\n",
    "# 2. dictionary\n",
    "# 3. tuple\n",
    "# 4. set"
   ]
  },
  {
   "cell_type": "code",
   "execution_count": null,
   "metadata": {},
   "outputs": [],
   "source": [
    "# Add <username> <gender> <age> <id>\n",
    "# Find <id>"
   ]
  },
  {
   "cell_type": "code",
   "execution_count": 10,
   "metadata": {},
   "outputs": [
    {
     "name": "stdout",
     "output_type": "stream",
     "text": [
      "Add Ali male 20 ali20ali\n",
      "User ali20ali added successfully\n",
      "Add Mohammad male 21 mohammadm\n",
      "User mohammadm added successfully\n",
      "Add Akbar male 30 akbar30\n",
      "User akbar30 added successfully\n",
      "Add Maryam female 20 maryam20\n",
      "User maryam20 added successfully\n",
      "Add Mahtab female 13 mahtab13\n",
      "User mahtab13 added successfully\n",
      "Add Maziar male 40 maziarAk\n",
      "User maziarAk added successfully\n",
      "find ali\n",
      "Find ali\n",
      "1 Ali male 20 ali20ali\n",
      "Find m\n",
      "2 Mahtab female 13 mahtab13\n",
      "2 Maryam female 20 maryam20\n",
      "2 Maziar male 40 maziarAk\n",
      "2 Mohammad male 21 mohammadm\n",
      "Find z\n",
      "3 No user found\n",
      "exit 0\n"
     ]
    }
   ],
   "source": [
    "network = dict() # {id: {'info': [], 'following' : [], 'followers' : []}}\n",
    "count = 0\n",
    "\n",
    "while True:\n",
    "    id_list = []\n",
    "    ins = input()\n",
    "    if ins == 'exit 0':\n",
    "        break\n",
    "    elif ins.startswith('Add'):\n",
    "        network[ins[-1]] = {'info': [], 'following' : [], 'followers' : []}\n",
    "        ins = ins.split()\n",
    "        network[ins[-1]]['info'] = ins[1:4]\n",
    "        print(f'User {ins[-1]} added successfully')\n",
    "    elif ins.startswith('Find'):\n",
    "        count = count + 1\n",
    "        ins = ins.split()\n",
    "        for id_ in network.keys():\n",
    "            if id_.startswith(ins[1].lower()):\n",
    "                id_list.append(id_)\n",
    "        if len(id_list) == 0:\n",
    "            print(count, 'No user found')\n",
    "        else:\n",
    "            id_list.sort()\n",
    "            for id_ in id_list:\n",
    "                print(count, ' '.join(network[id_]), id_)\n",
    "    elif ins.startswith('Follow'):\n",
    "        ins = ins.split() # Follow id1 id2\n",
    "        id1 = ins[1]\n",
    "        id2 = ins[2]\n",
    "        network[id1]['following'].append(id2)\n",
    "        network[id2]['followers'].append(id1)"
   ]
  },
  {
   "cell_type": "code",
   "execution_count": 11,
   "metadata": {},
   "outputs": [
    {
     "name": "stdout",
     "output_type": "stream",
     "text": [
      "5\n",
      "12345\n",
      "123456789\n",
      "987654321\n",
      "123456789\n",
      "987654321\n",
      "123456789\n",
      "12\n"
     ]
    }
   ],
   "source": [
    "n = input()\n",
    "n = int(n)\n",
    "S =[] \n",
    "S2=[]\n",
    "result=[]\n",
    "for i in range (n+1):\n",
    "    i = input()\n",
    "    i = int(i)\n",
    "    S.append(i)\n",
    "\n",
    "\n",
    "for i in S:\n",
    "    X = list(map(int,list(str(i))))\n",
    "    S2.append(X)\n",
    "\n",
    "i =0\n",
    "x =1\n",
    "while x<len(S2):\n",
    "    A = S2[0][i]\n",
    "    B = S2[x].index(A)\n",
    "    B1 = len(S2[x])-B\n",
    "    if B>B1:\n",
    "        result.append(B1)\n",
    "    else:\n",
    "        result.append(B)\n",
    "    i +=1\n",
    "    x +=1\n",
    "print(sum(result))\n",
    "\n",
    "\n",
    "\n",
    "\n",
    "    "
   ]
  },
  {
   "cell_type": "code",
   "execution_count": null,
   "metadata": {},
   "outputs": [],
   "source": [
    "Add Ali male 20 ali20ali\n",
    "Add Mohammad male 21 mohammadm\n",
    "Add Akbar male 30 akbar30\n",
    "Find ali\n",
    "Add Maryam female 20 maryam20\n",
    "Find mohammad21\n",
    "Add Mahtab female 13 mahtab13\n",
    "Add Maziar male 40 maziarAk\n",
    "Find ma\n",
    "exit 0"
   ]
  },
  {
   "cell_type": "code",
   "execution_count": 2,
   "metadata": {},
   "outputs": [
    {
     "data": {
      "text/plain": [
       "['Ali', 'male']"
      ]
     },
     "execution_count": 2,
     "metadata": {},
     "output_type": "execute_result"
    }
   ],
   "source": [
    "ins = 'Add Ali male 20 ali20ali'\n",
    "ins = ins.split()\n",
    "ins[1:3]"
   ]
  },
  {
   "cell_type": "code",
   "execution_count": 4,
   "metadata": {},
   "outputs": [
    {
     "name": "stdout",
     "output_type": "stream",
     "text": [
      "User ali20ali added successfully\n",
      "User ali20ali added successfully\n"
     ]
    }
   ],
   "source": [
    "x = 'ali20ali'\n",
    "print(f'User {x} added successfully')\n",
    "print('User', x,  'added successfully', sep = ' ')"
   ]
  },
  {
   "cell_type": "code",
   "execution_count": 12,
   "metadata": {},
   "outputs": [
    {
     "name": "stdout",
     "output_type": "stream",
     "text": [
      "[[1, 2, 3, 4, 5], [1, 2, 3, 4, 5, 6, 7, 8, 9], [9, 8, 7, 6, 5, 4, 3, 2, 1], [1, 2, 3, 4, 5, 6, 7, 8, 9], [9, 8, 7, 6, 5, 4, 3, 2, 1], [1, 2, 3, 4, 5, 6, 7, 8, 9]]\n"
     ]
    }
   ],
   "source": [
    "print(S2)"
   ]
  },
  {
   "cell_type": "code",
   "execution_count": null,
   "metadata": {},
   "outputs": [],
   "source": []
  }
 ],
 "metadata": {
  "kernelspec": {
   "display_name": "Python 3",
   "language": "python",
   "name": "python3"
  },
  "language_info": {
   "codemirror_mode": {
    "name": "ipython",
    "version": 3
   },
   "file_extension": ".py",
   "mimetype": "text/x-python",
   "name": "python",
   "nbconvert_exporter": "python",
   "pygments_lexer": "ipython3",
   "version": "3.8.5"
  }
 },
 "nbformat": 4,
 "nbformat_minor": 4
}
