{
 "cells": [
  {
   "cell_type": "code",
   "execution_count": null,
   "metadata": {},
   "outputs": [],
   "source": [
    "# input values\n",
    "priceBuy = input()\n",
    "priceCurrent = input()\n",
    "count = input()\n",
    "\n",
    "# validation\n",
    "try:\n",
    "    priceBuy = int(priceBuy)\n",
    "    priceCurrent = int(priceCurrent)\n",
    "    count = int(count)\n",
    "except:\n",
    "    print('Invalid Input')\n",
    "    \n",
    "if priceBuy % 10 != 0 or priceCurrent % 10 != 0 or count % 10 :\n",
    "    print('Invalid Input')\n",
    "    \n",
    "# outputs\n",
    "# 1.\n",
    "profit = True # boolean\n",
    "if priceCurrent < priceBuy :\n",
    "    print('Loss')\n",
    "    profit = False\n",
    "else:\n",
    "    print('Profit')\n",
    "    \n",
    "# 2.\n",
    "interest_percentange = round(((priceCurrent / priceBuy) * 100)-100, 2)\n",
    "if profit: # if profit == True\n",
    "    print('+' + interest_percentange)\n",
    "else:\n",
    "    print(interest_percentange)\n"
   ]
  },
  {
   "cell_type": "code",
   "execution_count": null,
   "metadata": {},
   "outputs": [],
   "source": [
    "profit"
   ]
  },
  {
   "cell_type": "code",
   "execution_count": null,
   "metadata": {},
   "outputs": [],
   "source": [
    "profit != True"
   ]
  },
  {
   "cell_type": "code",
   "execution_count": null,
   "metadata": {},
   "outputs": [],
   "source": [
    "try:\n",
    "    int('12.7')\n",
    "except:\n",
    "    print('Invalid Input')"
   ]
  },
  {
   "cell_type": "code",
   "execution_count": null,
   "metadata": {},
   "outputs": [],
   "source": [
    "# loops"
   ]
  },
  {
   "cell_type": "code",
   "execution_count": null,
   "metadata": {},
   "outputs": [],
   "source": [
    "count = 10\n",
    "if count != 0:\n",
    "    print(count)\n",
    "    count = count - 1 # count -= 1\n",
    "\n",
    "print(count)"
   ]
  },
  {
   "cell_type": "code",
   "execution_count": null,
   "metadata": {},
   "outputs": [],
   "source": [
    "count = 10\n",
    "while count != 0:\n",
    "    print(count)\n",
    "    count = count - 1 # count -= 1\n",
    "\n",
    "print(count)"
   ]
  },
  {
   "cell_type": "code",
   "execution_count": null,
   "metadata": {},
   "outputs": [],
   "source": [
    "for count in [10, 1]:\n",
    "    print(count)"
   ]
  },
  {
   "cell_type": "code",
   "execution_count": null,
   "metadata": {},
   "outputs": [],
   "source": [
    "sum = 0\n",
    "number = 1\n",
    "while number <= 101:\n",
    "    if number % 5 == 0:\n",
    "        sum = sum + number # sum += number\n",
    "    number += 1\n",
    "print(sum)\n",
    "    "
   ]
  },
  {
   "cell_type": "code",
   "execution_count": null,
   "metadata": {},
   "outputs": [],
   "source": [
    "sum = 0\n",
    "number = 1\n",
    "while True:\n",
    "    if number % 5 == 0:\n",
    "        sum = sum + number # sum += number\n",
    "    if number > 101:\n",
    "        break\n",
    "    number += 1\n",
    "print(sum)"
   ]
  },
  {
   "cell_type": "code",
   "execution_count": null,
   "metadata": {},
   "outputs": [],
   "source": [
    "sum = 0\n",
    "for number in range(1, 102):\n",
    "    if number % 5 == 0:\n",
    "        sum = sum + number # sum += number\n",
    "print(sum)   "
   ]
  },
  {
   "cell_type": "code",
   "execution_count": 2,
   "metadata": {},
   "outputs": [
    {
     "name": "stdout",
     "output_type": "stream",
     "text": [
      "1050\n"
     ]
    }
   ],
   "source": [
    "n = 1\n",
    "s = [] # s = []\n",
    "while n < 102:\n",
    "    if n % 5 == 0:\n",
    "        s.append(n) # s = [5, 10, 15, ]\n",
    "    n = n + 1 # 6\n",
    "a = sum(s)\n",
    "print(a)\n",
    "    "
   ]
  },
  {
   "cell_type": "code",
   "execution_count": 4,
   "metadata": {},
   "outputs": [
    {
     "name": "stdout",
     "output_type": "stream",
     "text": [
      "1\n",
      "2\n",
      "3\n",
      "4\n",
      "5\n",
      "6\n",
      "7\n",
      "8\n",
      "9\n",
      "10\n"
     ]
    }
   ],
   "source": [
    "for number in range(1, 11):\n",
    "    print(number)"
   ]
  },
  {
   "cell_type": "code",
   "execution_count": 6,
   "metadata": {},
   "outputs": [
    {
     "data": {
      "text/plain": [
       "False"
      ]
     },
     "execution_count": 6,
     "metadata": {},
     "output_type": "execute_result"
    }
   ],
   "source": [
    "if 10 in range(1,10) :\n",
    "    print('ok')"
   ]
  },
  {
   "cell_type": "code",
   "execution_count": 9,
   "metadata": {},
   "outputs": [
    {
     "name": "stdout",
     "output_type": "stream",
     "text": [
      "1 is not in b\n",
      "2 is not in b\n",
      "3 is in b\n",
      "4 is not in b\n"
     ]
    }
   ],
   "source": [
    "a = [1, 2, 3, 4]\n",
    "b = [5, 6, 7, 8, 9, 3]\n",
    "\n",
    "for member in a: # member = 1\n",
    "    if member in b :\n",
    "        print(member, 'is in b')\n",
    "    else:\n",
    "        print(member, 'is not in b')\n",
    "        "
   ]
  },
  {
   "cell_type": "code",
   "execution_count": 16,
   "metadata": {},
   "outputs": [
    {
     "name": "stdout",
     "output_type": "stream",
     "text": [
      "3\n",
      "14\n"
     ]
    }
   ],
   "source": [
    "n = int(input())\n",
    "result = 0\n",
    "for number in range(1, n+1):\n",
    "    result = result + (number**2)\n",
    "print(result)"
   ]
  },
  {
   "cell_type": "code",
   "execution_count": 17,
   "metadata": {},
   "outputs": [
    {
     "name": "stdout",
     "output_type": "stream",
     "text": [
      "3\n",
      "14\n"
     ]
    }
   ],
   "source": [
    "n = int(input())\n",
    "result = 0\n",
    "number = 1\n",
    "while number <= n: # n = 3\n",
    "    result = result + (number**2) # result = 14\n",
    "    number += 1 # number = 4\n",
    "print(result)"
   ]
  },
  {
   "cell_type": "code",
   "execution_count": 25,
   "metadata": {},
   "outputs": [
    {
     "name": "stdout",
     "output_type": "stream",
     "text": [
      "2\n",
      "2 is prime\n"
     ]
    }
   ],
   "source": [
    "n = int(input()) # n = 10\n",
    "\n",
    "count = 0\n",
    "for number in range(2, n): # [2, 3, 4, 5, 6, 7, 8, 9, 10]\n",
    "    if n % number == 0: \n",
    "        count += 1 # count = 2\n",
    "if count == 0 :\n",
    "    print(n, 'is prime')\n",
    "else:\n",
    "    print(n, 'is not prime')"
   ]
  },
  {
   "cell_type": "code",
   "execution_count": 30,
   "metadata": {},
   "outputs": [
    {
     "name": "stdout",
     "output_type": "stream",
     "text": [
      "2\n",
      "2 is prime\n"
     ]
    }
   ],
   "source": [
    "n = int(input()) # n = 10\n",
    "count = 0\n",
    "\n",
    "number = 2\n",
    "while number < n:\n",
    "    if n % number == 0: \n",
    "        count += 1 # count = 2\n",
    "    number += 3\n",
    "    \n",
    "if count == 0 :\n",
    "    print(n, 'is prime')\n",
    "else:\n",
    "    print(n, 'is not prime')"
   ]
  },
  {
   "cell_type": "code",
   "execution_count": 36,
   "metadata": {},
   "outputs": [
    {
     "name": "stdout",
     "output_type": "stream",
     "text": [
      "123456\n",
      "654321"
     ]
    }
   ],
   "source": [
    "n = int(input()) # 123456 -> 654321\n",
    "reverse_n = 0\n",
    "while n:\n",
    "    print(n % 10 , end = '')\n",
    "    n = int(n/10)\n",
    "    "
   ]
  },
  {
   "cell_type": "code",
   "execution_count": null,
   "metadata": {},
   "outputs": [],
   "source": []
  }
 ],
 "metadata": {
  "kernelspec": {
   "display_name": "Python 3",
   "language": "python",
   "name": "python3"
  },
  "language_info": {
   "codemirror_mode": {
    "name": "ipython",
    "version": 3
   },
   "file_extension": ".py",
   "mimetype": "text/x-python",
   "name": "python",
   "nbconvert_exporter": "python",
   "pygments_lexer": "ipython3",
   "version": "3.8.5"
  }
 },
 "nbformat": 4,
 "nbformat_minor": 4
}
