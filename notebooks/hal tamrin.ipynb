{
 "cells": [
  {
   "cell_type": "code",
   "execution_count": null,
   "metadata": {},
   "outputs": [],
   "source": [
    "# Karmand Ziadi"
   ]
  },
  {
   "cell_type": "code",
   "execution_count": 1,
   "metadata": {},
   "outputs": [
    {
     "name": "stdout",
     "output_type": "stream",
     "text": [
      "5\n"
     ]
    }
   ],
   "source": [
    "count = int(input())"
   ]
  },
  {
   "cell_type": "code",
   "execution_count": 2,
   "metadata": {},
   "outputs": [],
   "source": [
    "data = dict()"
   ]
  },
  {
   "cell_type": "code",
   "execution_count": null,
   "metadata": {},
   "outputs": [],
   "source": [
    "''' {'Name1' : 'bagher',\n",
    "'Name2' : 'bagher',\n",
    "'Name3' : 'naser',\n",
    "'Name4' : 'naser',\n",
    "'Name5' : 'steve'\n",
    "    }\n",
    "'''"
   ]
  },
  {
   "cell_type": "code",
   "execution_count": 10,
   "metadata": {},
   "outputs": [
    {
     "name": "stdout",
     "output_type": "stream",
     "text": [
      "bagher bagherian\n",
      "bagher naserian\n",
      "naser bagherian\n",
      "naser naserian\n",
      "steve jobs\n"
     ]
    }
   ],
   "source": [
    "data = []\n",
    "for i in range(count):\n",
    "    name = input().split()[0]\n",
    "    data.append(name)"
   ]
  },
  {
   "cell_type": "code",
   "execution_count": 11,
   "metadata": {},
   "outputs": [
    {
     "name": "stdout",
     "output_type": "stream",
     "text": [
      "['bagher', 'bagher', 'naser', 'naser', 'steve']\n"
     ]
    }
   ],
   "source": [
    "print(data)"
   ]
  },
  {
   "cell_type": "code",
   "execution_count": 5,
   "metadata": {},
   "outputs": [],
   "source": [
    "from collections import Counter"
   ]
  },
  {
   "cell_type": "code",
   "execution_count": 14,
   "metadata": {},
   "outputs": [],
   "source": [
    "result = Counter(data)"
   ]
  },
  {
   "cell_type": "code",
   "execution_count": 15,
   "metadata": {},
   "outputs": [
    {
     "data": {
      "text/plain": [
       "2"
      ]
     },
     "execution_count": 15,
     "metadata": {},
     "output_type": "execute_result"
    }
   ],
   "source": [
    "max(result.values())"
   ]
  },
  {
   "cell_type": "code",
   "execution_count": 16,
   "metadata": {},
   "outputs": [],
   "source": [
    "def counter(mylist):\n",
    "    d = dict()\n",
    "    for item in mylist:\n",
    "        d[item] = d.get(item, 0) + 1\n",
    "        '''\n",
    "        if item in d:\n",
    "            d[item] += 1\n",
    "        else:\n",
    "            d[item] = 1\n",
    "        '''\n",
    "    return d"
   ]
  },
  {
   "cell_type": "code",
   "execution_count": null,
   "metadata": {},
   "outputs": [],
   "source": [
    "from collections import Counter\n",
    "\n",
    "count = int(input())\n",
    "data = []\n",
    "for i in range(count):\n",
    "    name = input().split()[0]\n",
    "    data.append(name)\n",
    "    \n",
    "result = Counter(data)\n",
    "# result = counter(data)\n",
    "print(max(result.values()))"
   ]
  },
  {
   "cell_type": "code",
   "execution_count": 17,
   "metadata": {},
   "outputs": [
    {
     "data": {
      "text/plain": [
       "{'bagher': 2, 'naser': 2, 'steve': 1}"
      ]
     },
     "execution_count": 17,
     "metadata": {},
     "output_type": "execute_result"
    }
   ],
   "source": [
    "counter(data)"
   ]
  },
  {
   "cell_type": "code",
   "execution_count": 18,
   "metadata": {},
   "outputs": [
    {
     "data": {
      "text/plain": [
       "Counter({'bagher': 2, 'naser': 2, 'steve': 1})"
      ]
     },
     "execution_count": 18,
     "metadata": {},
     "output_type": "execute_result"
    }
   ],
   "source": [
    "Counter(data)"
   ]
  },
  {
   "cell_type": "code",
   "execution_count": null,
   "metadata": {},
   "outputs": [],
   "source": [
    "# Harme Knab"
   ]
  },
  {
   "cell_type": "code",
   "execution_count": 33,
   "metadata": {},
   "outputs": [
    {
     "name": "stdout",
     "output_type": "stream",
     "text": [
      "3\n"
     ]
    }
   ],
   "source": [
    "count = int(input())"
   ]
  },
  {
   "cell_type": "code",
   "execution_count": 34,
   "metadata": {},
   "outputs": [
    {
     "name": "stdout",
     "output_type": "stream",
     "text": [
      "1 46.51.16.72:SmsS\n",
      "1 192.168.10.13:#hacker$user\n",
      "invalid username\n",
      "1 131.41.61.213:faeila\n"
     ]
    }
   ],
   "source": [
    "bank = dict() # bank[ip] = {'username': username, 'money': 0}\n",
    "for i in range(count):\n",
    "    inp = input().split()\n",
    "    if inp[0] == '1': # 'ip:username'\n",
    "        ip, username = inp[1].split(':')\n",
    "        if not username.isalnum():\n",
    "            print('invalid username')\n",
    "        else:\n",
    "            bank[ip] = {'username' : username, 'money': 0}\n",
    "    if inp[0] == '2': # ip:username:money\n",
    "        sender_ip, reciever_username, money = inp[1].split(':')\n",
    "        money = float(money)\n",
    "        bank[sender_ip]['money'] = bank[sender_ip]['money'] - money\n",
    "        for ip in bank:\n",
    "            if bank[ip]['username'] == reciever_username:\n",
    "                bank[ip]['money'] = bank[ip]['money'] + money\n",
    "    if inp[0] == '3':\n",
    "        ip = inp[1]\n",
    "        print(bank[ip]['money'])"
   ]
  },
  {
   "cell_type": "code",
   "execution_count": 35,
   "metadata": {},
   "outputs": [
    {
     "data": {
      "text/plain": [
       "{'46.51.16.72': {'username': 'SmsS', 'money': 0},\n",
       " '131.41.61.213': {'username': 'faeila', 'money': 0}}"
      ]
     },
     "execution_count": 35,
     "metadata": {},
     "output_type": "execute_result"
    }
   ],
   "source": [
    "bank = dict() # bank[ip] = {'username': username, 'money': 0}\n",
    "username_to_ip = dict()\n",
    "for i in range(count):\n",
    "    inp = input().split()\n",
    "    if inp[0] == '1': # 'ip:username'\n",
    "        ip, username = inp[1].split(':')\n",
    "        if not username.isalnum():\n",
    "            print('invalid username')\n",
    "        else:\n",
    "            bank[ip] = {'username' : username, 'money': 0}\n",
    "            username_to_ip[username] = ip\n",
    "    if inp[0] == '2': # ip:username:money\n",
    "        sender_ip, reciever_username, money = inp[1].split(':')\n",
    "        money = float(money)\n",
    "        bank[sender_ip]['money'] = bank[sender_ip]['money'] - money\n",
    "        reciever_ip = username_to_ip[reciever_username]\n",
    "        bank[reciever_ip]['money'] += money\n",
    "    if inp[0] == '3':\n",
    "        ip = inp[1]\n",
    "        print(bank[ip]['money'])"
   ]
  },
  {
   "cell_type": "code",
   "execution_count": 21,
   "metadata": {},
   "outputs": [],
   "source": [
    "inp = '1 46.51.16.72:SmsS'.split()"
   ]
  },
  {
   "cell_type": "code",
   "execution_count": 22,
   "metadata": {},
   "outputs": [
    {
     "data": {
      "text/plain": [
       "'1'"
      ]
     },
     "execution_count": 22,
     "metadata": {},
     "output_type": "execute_result"
    }
   ],
   "source": [
    "inp[0]"
   ]
  },
  {
   "cell_type": "code",
   "execution_count": 25,
   "metadata": {},
   "outputs": [],
   "source": [
    "ip, username = inp[1].split(':')"
   ]
  },
  {
   "cell_type": "code",
   "execution_count": 26,
   "metadata": {},
   "outputs": [
    {
     "data": {
      "text/plain": [
       "'46.51.16.72'"
      ]
     },
     "execution_count": 26,
     "metadata": {},
     "output_type": "execute_result"
    }
   ],
   "source": [
    "ip"
   ]
  },
  {
   "cell_type": "code",
   "execution_count": 28,
   "metadata": {},
   "outputs": [
    {
     "data": {
      "text/plain": [
       "'SmsS'"
      ]
     },
     "execution_count": 28,
     "metadata": {},
     "output_type": "execute_result"
    }
   ],
   "source": [
    "username"
   ]
  },
  {
   "cell_type": "code",
   "execution_count": 31,
   "metadata": {},
   "outputs": [
    {
     "data": {
      "text/plain": [
       "False"
      ]
     },
     "execution_count": 31,
     "metadata": {},
     "output_type": "execute_result"
    }
   ],
   "source": [
    "'ab#cd12323'.isalnum()"
   ]
  },
  {
   "cell_type": "code",
   "execution_count": null,
   "metadata": {},
   "outputs": [],
   "source": []
  }
 ],
 "metadata": {
  "kernelspec": {
   "display_name": "Python 3",
   "language": "python",
   "name": "python3"
  },
  "language_info": {
   "codemirror_mode": {
    "name": "ipython",
    "version": 3
   },
   "file_extension": ".py",
   "mimetype": "text/x-python",
   "name": "python",
   "nbconvert_exporter": "python",
   "pygments_lexer": "ipython3",
   "version": "3.8.5"
  }
 },
 "nbformat": 4,
 "nbformat_minor": 4
}
